{
 "cells": [
  {
   "cell_type": "markdown",
   "id": "bf5445ad",
   "metadata": {},
   "source": [
    "# Analisis a datos bancarios\n",
    "Comenzamos con la importacion de las librerias para poder manejar los datos de forma correcta"
   ]
  },
  {
   "cell_type": "code",
   "execution_count": 156,
   "id": "ea833e4b",
   "metadata": {},
   "outputs": [],
   "source": [
    "import pandas as pd\n",
    "import matplotlib as mpl\n",
    "import seaborn as sb"
   ]
  },
  {
   "cell_type": "markdown",
   "id": "7cc8e250",
   "metadata": {},
   "source": [
    "## Obtencion de los datos\n",
    "Procedemos a obtener los datos en un dataframe para el manejo adecuado de estos. Para su posterior limpieza y modificacion requerida"
   ]
  },
  {
   "cell_type": "code",
   "execution_count": 157,
   "id": "cb5ce2d6",
   "metadata": {},
   "outputs": [
    {
     "data": {
      "text/html": [
       "<div>\n",
       "<style scoped>\n",
       "    .dataframe tbody tr th:only-of-type {\n",
       "        vertical-align: middle;\n",
       "    }\n",
       "\n",
       "    .dataframe tbody tr th {\n",
       "        vertical-align: top;\n",
       "    }\n",
       "\n",
       "    .dataframe thead th {\n",
       "        text-align: right;\n",
       "    }\n",
       "</style>\n",
       "<table border=\"1\" class=\"dataframe\">\n",
       "  <thead>\n",
       "    <tr style=\"text-align: right;\">\n",
       "      <th></th>\n",
       "      <th>Customer ID</th>\n",
       "      <th>Name</th>\n",
       "      <th>Age</th>\n",
       "      <th>Gender</th>\n",
       "      <th>Address</th>\n",
       "      <th>Email</th>\n",
       "      <th>Phone Number</th>\n",
       "      <th>Account Type</th>\n",
       "      <th>Account Balance</th>\n",
       "      <th>Registration Date</th>\n",
       "    </tr>\n",
       "  </thead>\n",
       "  <tbody>\n",
       "    <tr>\n",
       "      <th>0</th>\n",
       "      <td>24b6ef4a-6310-40de-b589-60d4b75f68e5</td>\n",
       "      <td>Mark Montgomery</td>\n",
       "      <td>47</td>\n",
       "      <td>Female</td>\n",
       "      <td>52662 Olsen Keys Apt. 350\\r\\nNew Lauren, KS 90632</td>\n",
       "      <td>sanchezkyle@hotmail.com</td>\n",
       "      <td>190-175-3164x84539</td>\n",
       "      <td>Checking</td>\n",
       "      <td>9391.74</td>\n",
       "      <td>2024-03-19</td>\n",
       "    </tr>\n",
       "    <tr>\n",
       "      <th>1</th>\n",
       "      <td>a0ae8e10-73eb-4bfe-8187-5760c4a243e6</td>\n",
       "      <td>Jason King</td>\n",
       "      <td>84</td>\n",
       "      <td>Male</td>\n",
       "      <td>13849 Romero Stream\\r\\nJacquelinechester, ND 3...</td>\n",
       "      <td>elewis@hotmail.com</td>\n",
       "      <td>001-985-792-0564</td>\n",
       "      <td>Checking</td>\n",
       "      <td>8395.59</td>\n",
       "      <td>2021-06-19</td>\n",
       "    </tr>\n",
       "    <tr>\n",
       "      <th>2</th>\n",
       "      <td>56c99350-9f0f-4cfc-8f8a-379b0c7848df</td>\n",
       "      <td>Steven Whitaker</td>\n",
       "      <td>86</td>\n",
       "      <td>Female</td>\n",
       "      <td>3801 Brianna Ways\\r\\nThomasmouth, KY 06857</td>\n",
       "      <td>simmonschristopher@johnston.info</td>\n",
       "      <td>(245)011-5138</td>\n",
       "      <td>Savings</td>\n",
       "      <td>35086.30</td>\n",
       "      <td>2020-06-25</td>\n",
       "    </tr>\n",
       "    <tr>\n",
       "      <th>3</th>\n",
       "      <td>31398298-f9c6-40c2-8c56-9a9717c46b65</td>\n",
       "      <td>Terri Lucero</td>\n",
       "      <td>59</td>\n",
       "      <td>Male</td>\n",
       "      <td>026 Norman Villages Suite 475\\r\\nSouth Christo...</td>\n",
       "      <td>mbeltran@gmail.com</td>\n",
       "      <td>432.911.9239x197</td>\n",
       "      <td>Checking</td>\n",
       "      <td>93745.80</td>\n",
       "      <td>2024-05-17</td>\n",
       "    </tr>\n",
       "    <tr>\n",
       "      <th>4</th>\n",
       "      <td>282692f2-6693-4f4d-9beb-50239666f9fc</td>\n",
       "      <td>Jeremy Mason</td>\n",
       "      <td>25</td>\n",
       "      <td>Female</td>\n",
       "      <td>9115 Lee Route Apt. 784\\r\\nSanchezmouth, DC 07910</td>\n",
       "      <td>carrie14@gmail.com</td>\n",
       "      <td>001-148-679-2508x961</td>\n",
       "      <td>Checking</td>\n",
       "      <td>3484.77</td>\n",
       "      <td>2021-05-29</td>\n",
       "    </tr>\n",
       "  </tbody>\n",
       "</table>\n",
       "</div>"
      ],
      "text/plain": [
       "                            Customer ID             Name  Age  Gender  \\\n",
       "0  24b6ef4a-6310-40de-b589-60d4b75f68e5  Mark Montgomery   47  Female   \n",
       "1  a0ae8e10-73eb-4bfe-8187-5760c4a243e6       Jason King   84    Male   \n",
       "2  56c99350-9f0f-4cfc-8f8a-379b0c7848df  Steven Whitaker   86  Female   \n",
       "3  31398298-f9c6-40c2-8c56-9a9717c46b65     Terri Lucero   59    Male   \n",
       "4  282692f2-6693-4f4d-9beb-50239666f9fc     Jeremy Mason   25  Female   \n",
       "\n",
       "                                             Address  \\\n",
       "0  52662 Olsen Keys Apt. 350\\r\\nNew Lauren, KS 90632   \n",
       "1  13849 Romero Stream\\r\\nJacquelinechester, ND 3...   \n",
       "2         3801 Brianna Ways\\r\\nThomasmouth, KY 06857   \n",
       "3  026 Norman Villages Suite 475\\r\\nSouth Christo...   \n",
       "4  9115 Lee Route Apt. 784\\r\\nSanchezmouth, DC 07910   \n",
       "\n",
       "                              Email          Phone Number Account Type  \\\n",
       "0           sanchezkyle@hotmail.com    190-175-3164x84539     Checking   \n",
       "1                elewis@hotmail.com      001-985-792-0564     Checking   \n",
       "2  simmonschristopher@johnston.info         (245)011-5138      Savings   \n",
       "3                mbeltran@gmail.com      432.911.9239x197     Checking   \n",
       "4                carrie14@gmail.com  001-148-679-2508x961     Checking   \n",
       "\n",
       "   Account Balance Registration Date  \n",
       "0          9391.74        2024-03-19  \n",
       "1          8395.59        2021-06-19  \n",
       "2         35086.30        2020-06-25  \n",
       "3         93745.80        2024-05-17  \n",
       "4          3484.77        2021-05-29  "
      ]
     },
     "execution_count": 157,
     "metadata": {},
     "output_type": "execute_result"
    }
   ],
   "source": [
    "datos = pd.read_csv('../Datos/bank_customers.csv') # Se reciben los datos en un dataframe desde el archivo\n",
    "\n",
    "datos.head(5)"
   ]
  },
  {
   "cell_type": "markdown",
   "id": "642c3469",
   "metadata": {},
   "source": [
    "# Limpieza y preparacion de los datos\n",
    "Se preparan los datos cambiando tipos, verificando existencia de nulos y limpiando o modificando datos nulos de existir"
   ]
  },
  {
   "cell_type": "code",
   "execution_count": 158,
   "id": "b906388e",
   "metadata": {},
   "outputs": [
    {
     "data": {
      "text/plain": [
       "Customer ID          0\n",
       "Name                 0\n",
       "Age                  0\n",
       "Gender               0\n",
       "Address              0\n",
       "Email                0\n",
       "Phone Number         0\n",
       "Account Type         0\n",
       "Account Balance      0\n",
       "Registration Date    0\n",
       "dtype: int64"
      ]
     },
     "execution_count": 158,
     "metadata": {},
     "output_type": "execute_result"
    }
   ],
   "source": [
    "datos.isna().sum() # verificacion de existencia de datos nulos"
   ]
  },
  {
   "cell_type": "markdown",
   "id": "545bdc59",
   "metadata": {},
   "source": [
    "Verificamos que datos nulos no existen en los datos entregados, por lo que procedemos a verificar datos duplicados"
   ]
  },
  {
   "cell_type": "code",
   "execution_count": 159,
   "id": "abc63a06",
   "metadata": {},
   "outputs": [
    {
     "data": {
      "text/plain": [
       "np.int64(0)"
      ]
     },
     "execution_count": 159,
     "metadata": {},
     "output_type": "execute_result"
    }
   ],
   "source": [
    "datos.duplicated().sum() # Verificacion de filas duplicadas"
   ]
  },
  {
   "cell_type": "markdown",
   "id": "86350602",
   "metadata": {},
   "source": [
    "Verificamos que no existen filas duplicadas. Por lo que continuamos con la modificacion de los tipos de datos."
   ]
  },
  {
   "cell_type": "code",
   "execution_count": 160,
   "id": "685d6754",
   "metadata": {},
   "outputs": [
    {
     "data": {
      "text/plain": [
       "Customer ID           object\n",
       "Name                  object\n",
       "Age                    int64\n",
       "Gender                object\n",
       "Address               object\n",
       "Email                 object\n",
       "Phone Number          object\n",
       "Account Type          object\n",
       "Account Balance      float64\n",
       "Registration Date     object\n",
       "dtype: object"
      ]
     },
     "execution_count": 160,
     "metadata": {},
     "output_type": "execute_result"
    }
   ],
   "source": [
    "datos.dtypes #Mostramos los tipos de datos para cada columna"
   ]
  },
  {
   "cell_type": "markdown",
   "id": "6aa2b85c",
   "metadata": {},
   "source": [
    "Modificaremos los datos de las siguientes columnas:\n",
    "- Name: object -> string\n",
    "- Gender: object -> category\n",
    "- Adress: object -> string\n",
    "- Email: object -> string\n",
    "- Phone Number: object -> string\n",
    "- Account Type: object -> category\n",
    "- Registration Date: object -> date"
   ]
  },
  {
   "cell_type": "code",
   "execution_count": 161,
   "id": "3db89120",
   "metadata": {},
   "outputs": [
    {
     "data": {
      "text/plain": [
       "Customer ID                  object\n",
       "Name                 string[python]\n",
       "Age                           int64\n",
       "Gender                     category\n",
       "Address              string[python]\n",
       "Email                string[python]\n",
       "Phone Number         string[python]\n",
       "Account Type               category\n",
       "Account Balance             float64\n",
       "Registration Date    datetime64[ns]\n",
       "dtype: object"
      ]
     },
     "execution_count": 161,
     "metadata": {},
     "output_type": "execute_result"
    }
   ],
   "source": [
    "datos_modif = datos.copy()\n",
    "datos_modif = (\n",
    "    datos_modif.astype({\n",
    "        'Name': 'string',\n",
    "        'Gender': 'category',\n",
    "        'Address': 'string',\n",
    "        'Email': 'string',\n",
    "        'Phone Number': 'string',\n",
    "        'Account Type': 'category'\n",
    "    })\n",
    ")\n",
    "\n",
    "datos_modif[\"Registration Date\"] = pd.to_datetime(datos_modif[\"Registration Date\"])\n",
    "\n",
    "datos_modif.dtypes"
   ]
  },
  {
   "cell_type": "code",
   "execution_count": 162,
   "id": "895ffa99",
   "metadata": {},
   "outputs": [
    {
     "data": {
      "text/html": [
       "<div>\n",
       "<style scoped>\n",
       "    .dataframe tbody tr th:only-of-type {\n",
       "        vertical-align: middle;\n",
       "    }\n",
       "\n",
       "    .dataframe tbody tr th {\n",
       "        vertical-align: top;\n",
       "    }\n",
       "\n",
       "    .dataframe thead th {\n",
       "        text-align: right;\n",
       "    }\n",
       "</style>\n",
       "<table border=\"1\" class=\"dataframe\">\n",
       "  <thead>\n",
       "    <tr style=\"text-align: right;\">\n",
       "      <th></th>\n",
       "      <th>Customer ID</th>\n",
       "      <th>Name</th>\n",
       "      <th>Age</th>\n",
       "      <th>Gender</th>\n",
       "      <th>Address</th>\n",
       "      <th>Email</th>\n",
       "      <th>Phone Number</th>\n",
       "      <th>Account Type</th>\n",
       "      <th>Account Balance</th>\n",
       "      <th>Registration Date</th>\n",
       "    </tr>\n",
       "  </thead>\n",
       "  <tbody>\n",
       "    <tr>\n",
       "      <th>0</th>\n",
       "      <td>24b6ef4a-6310-40de-b589-60d4b75f68e5</td>\n",
       "      <td>Mark Montgomery</td>\n",
       "      <td>47</td>\n",
       "      <td>Female</td>\n",
       "      <td>52662 Olsen Keys Apt. 350\\r\\nNew Lauren, KS 90632</td>\n",
       "      <td>sanchezkyle@hotmail.com</td>\n",
       "      <td>190-175-3164x84539</td>\n",
       "      <td>Checking</td>\n",
       "      <td>9391.74</td>\n",
       "      <td>2024-03-19</td>\n",
       "    </tr>\n",
       "    <tr>\n",
       "      <th>1</th>\n",
       "      <td>a0ae8e10-73eb-4bfe-8187-5760c4a243e6</td>\n",
       "      <td>Jason King</td>\n",
       "      <td>84</td>\n",
       "      <td>Male</td>\n",
       "      <td>13849 Romero Stream\\r\\nJacquelinechester, ND 3...</td>\n",
       "      <td>elewis@hotmail.com</td>\n",
       "      <td>001-985-792-0564</td>\n",
       "      <td>Checking</td>\n",
       "      <td>8395.59</td>\n",
       "      <td>2021-06-19</td>\n",
       "    </tr>\n",
       "    <tr>\n",
       "      <th>2</th>\n",
       "      <td>56c99350-9f0f-4cfc-8f8a-379b0c7848df</td>\n",
       "      <td>Steven Whitaker</td>\n",
       "      <td>86</td>\n",
       "      <td>Female</td>\n",
       "      <td>3801 Brianna Ways\\r\\nThomasmouth, KY 06857</td>\n",
       "      <td>simmonschristopher@johnston.info</td>\n",
       "      <td>(245)011-5138</td>\n",
       "      <td>Savings</td>\n",
       "      <td>35086.30</td>\n",
       "      <td>2020-06-25</td>\n",
       "    </tr>\n",
       "    <tr>\n",
       "      <th>3</th>\n",
       "      <td>31398298-f9c6-40c2-8c56-9a9717c46b65</td>\n",
       "      <td>Terri Lucero</td>\n",
       "      <td>59</td>\n",
       "      <td>Male</td>\n",
       "      <td>026 Norman Villages Suite 475\\r\\nSouth Christo...</td>\n",
       "      <td>mbeltran@gmail.com</td>\n",
       "      <td>432.911.9239x197</td>\n",
       "      <td>Checking</td>\n",
       "      <td>93745.80</td>\n",
       "      <td>2024-05-17</td>\n",
       "    </tr>\n",
       "    <tr>\n",
       "      <th>4</th>\n",
       "      <td>282692f2-6693-4f4d-9beb-50239666f9fc</td>\n",
       "      <td>Jeremy Mason</td>\n",
       "      <td>25</td>\n",
       "      <td>Female</td>\n",
       "      <td>9115 Lee Route Apt. 784\\r\\nSanchezmouth, DC 07910</td>\n",
       "      <td>carrie14@gmail.com</td>\n",
       "      <td>001-148-679-2508x961</td>\n",
       "      <td>Checking</td>\n",
       "      <td>3484.77</td>\n",
       "      <td>2021-05-29</td>\n",
       "    </tr>\n",
       "  </tbody>\n",
       "</table>\n",
       "</div>"
      ],
      "text/plain": [
       "                            Customer ID             Name  Age  Gender  \\\n",
       "0  24b6ef4a-6310-40de-b589-60d4b75f68e5  Mark Montgomery   47  Female   \n",
       "1  a0ae8e10-73eb-4bfe-8187-5760c4a243e6       Jason King   84    Male   \n",
       "2  56c99350-9f0f-4cfc-8f8a-379b0c7848df  Steven Whitaker   86  Female   \n",
       "3  31398298-f9c6-40c2-8c56-9a9717c46b65     Terri Lucero   59    Male   \n",
       "4  282692f2-6693-4f4d-9beb-50239666f9fc     Jeremy Mason   25  Female   \n",
       "\n",
       "                                             Address  \\\n",
       "0  52662 Olsen Keys Apt. 350\\r\\nNew Lauren, KS 90632   \n",
       "1  13849 Romero Stream\\r\\nJacquelinechester, ND 3...   \n",
       "2         3801 Brianna Ways\\r\\nThomasmouth, KY 06857   \n",
       "3  026 Norman Villages Suite 475\\r\\nSouth Christo...   \n",
       "4  9115 Lee Route Apt. 784\\r\\nSanchezmouth, DC 07910   \n",
       "\n",
       "                              Email          Phone Number Account Type  \\\n",
       "0           sanchezkyle@hotmail.com    190-175-3164x84539     Checking   \n",
       "1                elewis@hotmail.com      001-985-792-0564     Checking   \n",
       "2  simmonschristopher@johnston.info         (245)011-5138      Savings   \n",
       "3                mbeltran@gmail.com      432.911.9239x197     Checking   \n",
       "4                carrie14@gmail.com  001-148-679-2508x961     Checking   \n",
       "\n",
       "   Account Balance Registration Date  \n",
       "0          9391.74        2024-03-19  \n",
       "1          8395.59        2021-06-19  \n",
       "2         35086.30        2020-06-25  \n",
       "3         93745.80        2024-05-17  \n",
       "4          3484.77        2021-05-29  "
      ]
     },
     "execution_count": 162,
     "metadata": {},
     "output_type": "execute_result"
    }
   ],
   "source": [
    "datos_modif.head()"
   ]
  },
  {
   "cell_type": "markdown",
   "id": "117a7777",
   "metadata": {},
   "source": [
    "Ya limpios los datos podemos empezar a responder las diferentes preguntas"
   ]
  },
  {
   "cell_type": "markdown",
   "id": "a4bb471a",
   "metadata": {},
   "source": [
    "# ¿Cual es la distribución de Edad y Genero de los Clientes?"
   ]
  },
  {
   "cell_type": "code",
   "execution_count": 163,
   "id": "4fe2a99c",
   "metadata": {},
   "outputs": [
    {
     "name": "stderr",
     "output_type": "stream",
     "text": [
      "C:\\Users\\Vicente\\AppData\\Local\\Temp\\ipykernel_26156\\4116451089.py:2: FutureWarning: The default of observed=False is deprecated and will be changed to True in a future version of pandas. Pass observed=False to retain current behavior or observed=True to adopt the future default and silence this warning.\n",
      "  datos_edad_genero = datos_modif.groupby(['Age', 'Gender']).size().reset_index(name='total')\n"
     ]
    },
    {
     "data": {
      "text/html": [
       "<div>\n",
       "<style scoped>\n",
       "    .dataframe tbody tr th:only-of-type {\n",
       "        vertical-align: middle;\n",
       "    }\n",
       "\n",
       "    .dataframe tbody tr th {\n",
       "        vertical-align: top;\n",
       "    }\n",
       "\n",
       "    .dataframe thead th {\n",
       "        text-align: right;\n",
       "    }\n",
       "</style>\n",
       "<table border=\"1\" class=\"dataframe\">\n",
       "  <thead>\n",
       "    <tr style=\"text-align: right;\">\n",
       "      <th></th>\n",
       "      <th>Age</th>\n",
       "      <th>Gender</th>\n",
       "      <th>total</th>\n",
       "      <th>edad_bins</th>\n",
       "    </tr>\n",
       "  </thead>\n",
       "  <tbody>\n",
       "    <tr>\n",
       "      <th>144</th>\n",
       "      <td>90</td>\n",
       "      <td>Female</td>\n",
       "      <td>16</td>\n",
       "      <td>90+</td>\n",
       "    </tr>\n",
       "    <tr>\n",
       "      <th>145</th>\n",
       "      <td>90</td>\n",
       "      <td>Male</td>\n",
       "      <td>28</td>\n",
       "      <td>90+</td>\n",
       "    </tr>\n",
       "  </tbody>\n",
       "</table>\n",
       "</div>"
      ],
      "text/plain": [
       "     Age  Gender  total edad_bins\n",
       "144   90  Female     16       90+\n",
       "145   90    Male     28       90+"
      ]
     },
     "execution_count": 163,
     "metadata": {},
     "output_type": "execute_result"
    }
   ],
   "source": [
    "#Agrupamos por edad y Genero para contar las cantidades de coincidencias\n",
    "datos_edad_genero = datos_modif.groupby(['Age', 'Gender']).size().reset_index(name='total')\n",
    "\n",
    "# Se crean etiquetas para rangos a verificar\n",
    "valores = ['18 a 19', '20 a 29', '30 a 39', '40 a 49', '50 a 59', '60 a 69', '70 a 79', '80 a 89', '90+']\n",
    "bins = [18, 20, 30, 40, 50, 60, 70, 80, 90, 100]\n",
    "datos_edad_genero[\"edad_bins\"] = pd.cut(datos_edad_genero[\"Age\"], bins=bins, labels=valores,\n",
    "                                                       right=False)\n",
    "\n",
    "a = datos_edad_genero[datos_edad_genero[\"edad_bins\"] == '90+']\n",
    "a"
   ]
  },
  {
   "cell_type": "code",
   "execution_count": 164,
   "id": "b852d6d9",
   "metadata": {},
   "outputs": [
    {
     "data": {
      "text/plain": [
       "[Text(0.5, 0, 'Rangos Edad'),\n",
       " Text(0, 0.5, 'Cant. Clientes'),\n",
       " Text(0.5, 1.0, 'Distribucion Edad y Genero de Clientes')]"
      ]
     },
     "execution_count": 164,
     "metadata": {},
     "output_type": "execute_result"
    },
    {
     "data": {
      "image/png": "[encoded data removed]",
      "text/plain": [
       "<Figure size 640x480 with 1 Axes>"
      ]
     },
     "metadata": {},
     "output_type": "display_data"
    }
   ],
   "source": [
    "# Creacion del grafico\n",
    "grafbar = sb.barplot(\n",
    "    data=datos_edad_genero, x='edad_bins', y='total', \n",
    "    hue=\"Gender\", hue_order=[\"Male\", \"Female\"], estimator=\"sum\",errorbar=None\n",
    ")\n",
    "\n",
    "#Mostrar los valores de cada barra en el grafico\n",
    "for p in grafbar.patches:\n",
    "    altura = p.get_height()\n",
    "    grafbar.annotate(\n",
    "        f'{int(altura)}',\n",
    "        (p.get_x() + p.get_width() / 2, altura),\n",
    "        ha='center', va='bottom',\n",
    "        fontsize=10, color='black', xytext=(0,1),\n",
    "        textcoords='offset points'\n",
    "    )\n",
    "\n",
    "# Modificar nombre de las leyendas\n",
    "leyendas = grafbar.legend(loc='center right', bbox_to_anchor=(1.2, 0.5))\n",
    "for texto, nombre in zip(leyendas.texts, [\"Masc\", \"Fem\"]):\n",
    "    texto.set_text(nombre)\n",
    "\n",
    "# modificar valores en el eje x\n",
    "mpl.pyplot.xticks(rotation=45)\n",
    "grafbar.set(xlabel=\"Rangos Edad\", ylabel=\"Cant. Clientes\", title=\"Distribucion Edad y Genero de Clientes\")"
   ]
  },
  {
   "cell_type": "markdown",
   "id": "e7df033d",
   "metadata": {},
   "source": [
    "Segun se puede interpretar, la mayoria de los clientes, ya sean hombres o mujeres, se encuntran entre la edades de 20 a 89, los datos minimos estan en los rangos 18 a 19 y 90+ para ambos casos.\n",
    "\n",
    "Se puede verificar que la cantidad de clientes femeninos va en incremento desde los 18 a los 49, para luego descender un poco de los 49 a los 59, para luego incrementar hasta los 69, para terminar disminuyendo desde los 69 a mas de los 90.\n",
    "\n",
    "En el caso de los clientes masculinos esto sucede de la, se ve un incrementeo explosivo entre los 18 a 29, luego disminuye sus de los 39 a 49, para luego incrementar nuevamente de los 49 a los 60 y decrecer de los 69 a mas de los 90."
   ]
  }
 ],
 "metadata": {
  "kernelspec": {
   "display_name": "analisis_bancario",
   "language": "python",
   "name": "python3"
  },
  "language_info": {
   "codemirror_mode": {
    "name": "ipython",
    "version": 3
   },
   "file_extension": ".py",
   "mimetype": "text/x-python",
   "name": "python",
   "nbconvert_exporter": "python",
   "pygments_lexer": "ipython3",
   "version": "3.13.7"
  }
 },
 "nbformat": 4,
 "nbformat_minor": 5
}
