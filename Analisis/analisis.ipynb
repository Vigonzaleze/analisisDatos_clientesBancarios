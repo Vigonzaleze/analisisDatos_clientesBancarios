{
 "cells": [
  {
   "cell_type": "markdown",
   "id": "bf5445ad",
   "metadata": {},
   "source": [
    "# Analisis a datos bancarios\n",
    "Comenzamos con la importacion de las librerias para poder manejar los datos de forma correcta"
   ]
  },
  {
   "cell_type": "code",
   "execution_count": 66,
   "id": "ea833e4b",
   "metadata": {},
   "outputs": [],
   "source": [
    "import pandas as pd\n",
    "import matplotlib as mpl\n",
    "import seaborn as sb\n",
    "import numpy as np"
   ]
  },
  {
   "cell_type": "markdown",
   "id": "7cc8e250",
   "metadata": {},
   "source": [
    "## Obtencion de los datos\n",
    "Procedemos a obtener los datos en un dataframe para el manejo adecuado de estos. Para su posterior limpieza y modificacion requerida"
   ]
  },
  {
   "cell_type": "code",
   "execution_count": 67,
   "id": "cb5ce2d6",
   "metadata": {},
   "outputs": [
    {
     "data": {
      "application/vnd.microsoft.datawrangler.viewer.v0+json": {
       "columns": [
        {
         "name": "index",
         "rawType": "int64",
         "type": "integer"
        },
        {
         "name": "Customer ID",
         "rawType": "object",
         "type": "string"
        },
        {
         "name": "Name",
         "rawType": "object",
         "type": "string"
        },
        {
         "name": "Age",
         "rawType": "int64",
         "type": "integer"
        },
        {
         "name": "Gender",
         "rawType": "object",
         "type": "string"
        },
        {
         "name": "Address",
         "rawType": "object",
         "type": "string"
        },
        {
         "name": "Email",
         "rawType": "object",
         "type": "string"
        },
        {
         "name": "Phone Number",
         "rawType": "object",
         "type": "string"
        },
        {
         "name": "Account Type",
         "rawType": "object",
         "type": "string"
        },
        {
         "name": "Account Balance",
         "rawType": "float64",
         "type": "float"
        },
        {
         "name": "Registration Date",
         "rawType": "object",
         "type": "string"
        }
       ],
       "ref": "15fce78b-7960-4489-8775-598b76838293",
       "rows": [
        [
         "0",
         "24b6ef4a-6310-40de-b589-60d4b75f68e5",
         "Mark Montgomery",
         "47",
         "Female",
         "52662 Olsen Keys Apt. 350\r\nNew Lauren, KS 90632",
         "sanchezkyle@hotmail.com",
         "190-175-3164x84539",
         "Checking",
         "9391.74",
         "2024-03-19"
        ],
        [
         "1",
         "a0ae8e10-73eb-4bfe-8187-5760c4a243e6",
         "Jason King",
         "84",
         "Male",
         "13849 Romero Stream\r\nJacquelinechester, ND 31821",
         "elewis@hotmail.com",
         "001-985-792-0564",
         "Checking",
         "8395.59",
         "2021-06-19"
        ],
        [
         "2",
         "56c99350-9f0f-4cfc-8f8a-379b0c7848df",
         "Steven Whitaker",
         "86",
         "Female",
         "3801 Brianna Ways\r\nThomasmouth, KY 06857",
         "simmonschristopher@johnston.info",
         "(245)011-5138",
         "Savings",
         "35086.3",
         "2020-06-25"
        ],
        [
         "3",
         "31398298-f9c6-40c2-8c56-9a9717c46b65",
         "Terri Lucero",
         "59",
         "Male",
         "026 Norman Villages Suite 475\r\nSouth Christopher, MN 22190",
         "mbeltran@gmail.com",
         "432.911.9239x197",
         "Checking",
         "93745.8",
         "2024-05-17"
        ],
        [
         "4",
         "282692f2-6693-4f4d-9beb-50239666f9fc",
         "Jeremy Mason",
         "25",
         "Female",
         "9115 Lee Route Apt. 784\r\nSanchezmouth, DC 07910",
         "carrie14@gmail.com",
         "001-148-679-2508x961",
         "Checking",
         "3484.77",
         "2021-05-29"
        ]
       ],
       "shape": {
        "columns": 10,
        "rows": 5
       }
      },
      "text/html": [
       "<div>\n",
       "<style scoped>\n",
       "    .dataframe tbody tr th:only-of-type {\n",
       "        vertical-align: middle;\n",
       "    }\n",
       "\n",
       "    .dataframe tbody tr th {\n",
       "        vertical-align: top;\n",
       "    }\n",
       "\n",
       "    .dataframe thead th {\n",
       "        text-align: right;\n",
       "    }\n",
       "</style>\n",
       "<table border=\"1\" class=\"dataframe\">\n",
       "  <thead>\n",
       "    <tr style=\"text-align: right;\">\n",
       "      <th></th>\n",
       "      <th>Customer ID</th>\n",
       "      <th>Name</th>\n",
       "      <th>Age</th>\n",
       "      <th>Gender</th>\n",
       "      <th>Address</th>\n",
       "      <th>Email</th>\n",
       "      <th>Phone Number</th>\n",
       "      <th>Account Type</th>\n",
       "      <th>Account Balance</th>\n",
       "      <th>Registration Date</th>\n",
       "    </tr>\n",
       "  </thead>\n",
       "  <tbody>\n",
       "    <tr>\n",
       "      <th>0</th>\n",
       "      <td>24b6ef4a-6310-40de-b589-60d4b75f68e5</td>\n",
       "      <td>Mark Montgomery</td>\n",
       "      <td>47</td>\n",
       "      <td>Female</td>\n",
       "      <td>52662 Olsen Keys Apt. 350\\r\\nNew Lauren, KS 90632</td>\n",
       "      <td>sanchezkyle@hotmail.com</td>\n",
       "      <td>190-175-3164x84539</td>\n",
       "      <td>Checking</td>\n",
       "      <td>9391.74</td>\n",
       "      <td>2024-03-19</td>\n",
       "    </tr>\n",
       "    <tr>\n",
       "      <th>1</th>\n",
       "      <td>a0ae8e10-73eb-4bfe-8187-5760c4a243e6</td>\n",
       "      <td>Jason King</td>\n",
       "      <td>84</td>\n",
       "      <td>Male</td>\n",
       "      <td>13849 Romero Stream\\r\\nJacquelinechester, ND 3...</td>\n",
       "      <td>elewis@hotmail.com</td>\n",
       "      <td>001-985-792-0564</td>\n",
       "      <td>Checking</td>\n",
       "      <td>8395.59</td>\n",
       "      <td>2021-06-19</td>\n",
       "    </tr>\n",
       "    <tr>\n",
       "      <th>2</th>\n",
       "      <td>56c99350-9f0f-4cfc-8f8a-379b0c7848df</td>\n",
       "      <td>Steven Whitaker</td>\n",
       "      <td>86</td>\n",
       "      <td>Female</td>\n",
       "      <td>3801 Brianna Ways\\r\\nThomasmouth, KY 06857</td>\n",
       "      <td>simmonschristopher@johnston.info</td>\n",
       "      <td>(245)011-5138</td>\n",
       "      <td>Savings</td>\n",
       "      <td>35086.30</td>\n",
       "      <td>2020-06-25</td>\n",
       "    </tr>\n",
       "    <tr>\n",
       "      <th>3</th>\n",
       "      <td>31398298-f9c6-40c2-8c56-9a9717c46b65</td>\n",
       "      <td>Terri Lucero</td>\n",
       "      <td>59</td>\n",
       "      <td>Male</td>\n",
       "      <td>026 Norman Villages Suite 475\\r\\nSouth Christo...</td>\n",
       "      <td>mbeltran@gmail.com</td>\n",
       "      <td>432.911.9239x197</td>\n",
       "      <td>Checking</td>\n",
       "      <td>93745.80</td>\n",
       "      <td>2024-05-17</td>\n",
       "    </tr>\n",
       "    <tr>\n",
       "      <th>4</th>\n",
       "      <td>282692f2-6693-4f4d-9beb-50239666f9fc</td>\n",
       "      <td>Jeremy Mason</td>\n",
       "      <td>25</td>\n",
       "      <td>Female</td>\n",
       "      <td>9115 Lee Route Apt. 784\\r\\nSanchezmouth, DC 07910</td>\n",
       "      <td>carrie14@gmail.com</td>\n",
       "      <td>001-148-679-2508x961</td>\n",
       "      <td>Checking</td>\n",
       "      <td>3484.77</td>\n",
       "      <td>2021-05-29</td>\n",
       "    </tr>\n",
       "  </tbody>\n",
       "</table>\n",
       "</div>"
      ],
      "text/plain": [
       "                            Customer ID             Name  Age  Gender  \\\n",
       "0  24b6ef4a-6310-40de-b589-60d4b75f68e5  Mark Montgomery   47  Female   \n",
       "1  a0ae8e10-73eb-4bfe-8187-5760c4a243e6       Jason King   84    Male   \n",
       "2  56c99350-9f0f-4cfc-8f8a-379b0c7848df  Steven Whitaker   86  Female   \n",
       "3  31398298-f9c6-40c2-8c56-9a9717c46b65     Terri Lucero   59    Male   \n",
       "4  282692f2-6693-4f4d-9beb-50239666f9fc     Jeremy Mason   25  Female   \n",
       "\n",
       "                                             Address  \\\n",
       "0  52662 Olsen Keys Apt. 350\\r\\nNew Lauren, KS 90632   \n",
       "1  13849 Romero Stream\\r\\nJacquelinechester, ND 3...   \n",
       "2         3801 Brianna Ways\\r\\nThomasmouth, KY 06857   \n",
       "3  026 Norman Villages Suite 475\\r\\nSouth Christo...   \n",
       "4  9115 Lee Route Apt. 784\\r\\nSanchezmouth, DC 07910   \n",
       "\n",
       "                              Email          Phone Number Account Type  \\\n",
       "0           sanchezkyle@hotmail.com    190-175-3164x84539     Checking   \n",
       "1                elewis@hotmail.com      001-985-792-0564     Checking   \n",
       "2  simmonschristopher@johnston.info         (245)011-5138      Savings   \n",
       "3                mbeltran@gmail.com      432.911.9239x197     Checking   \n",
       "4                carrie14@gmail.com  001-148-679-2508x961     Checking   \n",
       "\n",
       "   Account Balance Registration Date  \n",
       "0          9391.74        2024-03-19  \n",
       "1          8395.59        2021-06-19  \n",
       "2         35086.30        2020-06-25  \n",
       "3         93745.80        2024-05-17  \n",
       "4          3484.77        2021-05-29  "
      ]
     },
     "execution_count": 67,
     "metadata": {},
     "output_type": "execute_result"
    }
   ],
   "source": [
    "datos = pd.read_csv('../Datos/bank_customers.csv') # Se reciben los datos en un dataframe desde el archivo\n",
    "\n",
    "datos.head(5)"
   ]
  },
  {
   "cell_type": "markdown",
   "id": "642c3469",
   "metadata": {},
   "source": [
    "# Limpieza y preparacion de los datos\n",
    "Se preparan los datos cambiando tipos, verificando existencia de nulos y limpiando o modificando datos nulos de existir"
   ]
  },
  {
   "cell_type": "code",
   "execution_count": 68,
   "id": "b906388e",
   "metadata": {},
   "outputs": [
    {
     "data": {
      "application/vnd.microsoft.datawrangler.viewer.v0+json": {
       "columns": [
        {
         "name": "index",
         "rawType": "object",
         "type": "string"
        },
        {
         "name": "0",
         "rawType": "int64",
         "type": "integer"
        }
       ],
       "ref": "e347ba1a-8e88-46b4-8334-dc4518f0d696",
       "rows": [
        [
         "Customer ID",
         "0"
        ],
        [
         "Name",
         "0"
        ],
        [
         "Age",
         "0"
        ],
        [
         "Gender",
         "0"
        ],
        [
         "Address",
         "0"
        ],
        [
         "Email",
         "0"
        ],
        [
         "Phone Number",
         "0"
        ],
        [
         "Account Type",
         "0"
        ],
        [
         "Account Balance",
         "0"
        ],
        [
         "Registration Date",
         "0"
        ]
       ],
       "shape": {
        "columns": 1,
        "rows": 10
       }
      },
      "text/plain": [
       "Customer ID          0\n",
       "Name                 0\n",
       "Age                  0\n",
       "Gender               0\n",
       "Address              0\n",
       "Email                0\n",
       "Phone Number         0\n",
       "Account Type         0\n",
       "Account Balance      0\n",
       "Registration Date    0\n",
       "dtype: int64"
      ]
     },
     "execution_count": 68,
     "metadata": {},
     "output_type": "execute_result"
    }
   ],
   "source": [
    "datos.isna().sum() # verificacion de existencia de datos nulos"
   ]
  },
  {
   "cell_type": "markdown",
   "id": "545bdc59",
   "metadata": {},
   "source": [
    "Verificamos que datos nulos no existen en los datos entregados, por lo que procedemos a verificar datos duplicados"
   ]
  },
  {
   "cell_type": "code",
   "execution_count": 69,
   "id": "abc63a06",
   "metadata": {},
   "outputs": [
    {
     "data": {
      "text/plain": [
       "np.int64(0)"
      ]
     },
     "execution_count": 69,
     "metadata": {},
     "output_type": "execute_result"
    }
   ],
   "source": [
    "datos.duplicated().sum() # Verificacion de filas duplicadas"
   ]
  },
  {
   "cell_type": "markdown",
   "id": "86350602",
   "metadata": {},
   "source": [
    "Verificamos que no existen filas duplicadas. Por lo que continuamos con la modificacion de los tipos de datos."
   ]
  },
  {
   "cell_type": "code",
   "execution_count": 70,
   "id": "685d6754",
   "metadata": {},
   "outputs": [
    {
     "data": {
      "application/vnd.microsoft.datawrangler.viewer.v0+json": {
       "columns": [
        {
         "name": "index",
         "rawType": "object",
         "type": "string"
        },
        {
         "name": "0",
         "rawType": "object",
         "type": "unknown"
        }
       ],
       "ref": "dd9dd223-76ca-4f40-b85a-e74bf81b1a8c",
       "rows": [
        [
         "Customer ID",
         "object"
        ],
        [
         "Name",
         "object"
        ],
        [
         "Age",
         "int64"
        ],
        [
         "Gender",
         "object"
        ],
        [
         "Address",
         "object"
        ],
        [
         "Email",
         "object"
        ],
        [
         "Phone Number",
         "object"
        ],
        [
         "Account Type",
         "object"
        ],
        [
         "Account Balance",
         "float64"
        ],
        [
         "Registration Date",
         "object"
        ]
       ],
       "shape": {
        "columns": 1,
        "rows": 10
       }
      },
      "text/plain": [
       "Customer ID           object\n",
       "Name                  object\n",
       "Age                    int64\n",
       "Gender                object\n",
       "Address               object\n",
       "Email                 object\n",
       "Phone Number          object\n",
       "Account Type          object\n",
       "Account Balance      float64\n",
       "Registration Date     object\n",
       "dtype: object"
      ]
     },
     "execution_count": 70,
     "metadata": {},
     "output_type": "execute_result"
    }
   ],
   "source": [
    "datos.dtypes #Mostramos los tipos de datos para cada columna"
   ]
  },
  {
   "cell_type": "markdown",
   "id": "6aa2b85c",
   "metadata": {},
   "source": [
    "Modificaremos los datos de las siguientes columnas:\n",
    "- Name: object -> string\n",
    "- Gender: object -> category\n",
    "- Adress: object -> string\n",
    "- Email: object -> string\n",
    "- Phone Number: object -> string\n",
    "- Account Type: object -> category\n",
    "- Registration Date: object -> date"
   ]
  },
  {
   "cell_type": "code",
   "execution_count": 71,
   "id": "3db89120",
   "metadata": {},
   "outputs": [
    {
     "data": {
      "application/vnd.microsoft.datawrangler.viewer.v0+json": {
       "columns": [
        {
         "name": "index",
         "rawType": "object",
         "type": "string"
        },
        {
         "name": "0",
         "rawType": "object",
         "type": "unknown"
        }
       ],
       "ref": "4d87ee6f-b034-4433-884d-b0126e0db2a3",
       "rows": [
        [
         "Customer ID",
         "object"
        ],
        [
         "Name",
         "string"
        ],
        [
         "Age",
         "int64"
        ],
        [
         "Gender",
         "category"
        ],
        [
         "Address",
         "string"
        ],
        [
         "Email",
         "string"
        ],
        [
         "Phone Number",
         "string"
        ],
        [
         "Account Type",
         "category"
        ],
        [
         "Account Balance",
         "float64"
        ],
        [
         "Registration Date",
         "datetime64[ns]"
        ]
       ],
       "shape": {
        "columns": 1,
        "rows": 10
       }
      },
      "text/plain": [
       "Customer ID                  object\n",
       "Name                 string[python]\n",
       "Age                           int64\n",
       "Gender                     category\n",
       "Address              string[python]\n",
       "Email                string[python]\n",
       "Phone Number         string[python]\n",
       "Account Type               category\n",
       "Account Balance             float64\n",
       "Registration Date    datetime64[ns]\n",
       "dtype: object"
      ]
     },
     "execution_count": 71,
     "metadata": {},
     "output_type": "execute_result"
    }
   ],
   "source": [
    "datos_modif = datos.copy()\n",
    "datos_modif = (\n",
    "    datos_modif.astype({\n",
    "        'Name': 'string',\n",
    "        'Gender': 'category',\n",
    "        'Address': 'string',\n",
    "        'Email': 'string',\n",
    "        'Phone Number': 'string',\n",
    "        'Account Type': 'category'\n",
    "    })\n",
    ")\n",
    "\n",
    "datos_modif[\"Registration Date\"] = pd.to_datetime(datos_modif[\"Registration Date\"])\n",
    "\n",
    "datos_modif.dtypes"
   ]
  },
  {
   "cell_type": "code",
   "execution_count": 72,
   "id": "895ffa99",
   "metadata": {},
   "outputs": [
    {
     "data": {
      "application/vnd.microsoft.datawrangler.viewer.v0+json": {
       "columns": [
        {
         "name": "index",
         "rawType": "int64",
         "type": "integer"
        },
        {
         "name": "Customer ID",
         "rawType": "object",
         "type": "string"
        },
        {
         "name": "Name",
         "rawType": "string",
         "type": "string"
        },
        {
         "name": "Age",
         "rawType": "int64",
         "type": "integer"
        },
        {
         "name": "Gender",
         "rawType": "category",
         "type": "unknown"
        },
        {
         "name": "Address",
         "rawType": "string",
         "type": "string"
        },
        {
         "name": "Email",
         "rawType": "string",
         "type": "string"
        },
        {
         "name": "Phone Number",
         "rawType": "string",
         "type": "string"
        },
        {
         "name": "Account Type",
         "rawType": "category",
         "type": "unknown"
        },
        {
         "name": "Account Balance",
         "rawType": "float64",
         "type": "float"
        },
        {
         "name": "Registration Date",
         "rawType": "datetime64[ns]",
         "type": "datetime"
        }
       ],
       "ref": "9dab2720-0231-4548-b60d-8bd17ab0e0f8",
       "rows": [
        [
         "0",
         "24b6ef4a-6310-40de-b589-60d4b75f68e5",
         "Mark Montgomery",
         "47",
         "Female",
         "52662 Olsen Keys Apt. 350\r\nNew Lauren, KS 90632",
         "sanchezkyle@hotmail.com",
         "190-175-3164x84539",
         "Checking",
         "9391.74",
         "2024-03-19 00:00:00"
        ],
        [
         "1",
         "a0ae8e10-73eb-4bfe-8187-5760c4a243e6",
         "Jason King",
         "84",
         "Male",
         "13849 Romero Stream\r\nJacquelinechester, ND 31821",
         "elewis@hotmail.com",
         "001-985-792-0564",
         "Checking",
         "8395.59",
         "2021-06-19 00:00:00"
        ],
        [
         "2",
         "56c99350-9f0f-4cfc-8f8a-379b0c7848df",
         "Steven Whitaker",
         "86",
         "Female",
         "3801 Brianna Ways\r\nThomasmouth, KY 06857",
         "simmonschristopher@johnston.info",
         "(245)011-5138",
         "Savings",
         "35086.3",
         "2020-06-25 00:00:00"
        ],
        [
         "3",
         "31398298-f9c6-40c2-8c56-9a9717c46b65",
         "Terri Lucero",
         "59",
         "Male",
         "026 Norman Villages Suite 475\r\nSouth Christopher, MN 22190",
         "mbeltran@gmail.com",
         "432.911.9239x197",
         "Checking",
         "93745.8",
         "2024-05-17 00:00:00"
        ],
        [
         "4",
         "282692f2-6693-4f4d-9beb-50239666f9fc",
         "Jeremy Mason",
         "25",
         "Female",
         "9115 Lee Route Apt. 784\r\nSanchezmouth, DC 07910",
         "carrie14@gmail.com",
         "001-148-679-2508x961",
         "Checking",
         "3484.77",
         "2021-05-29 00:00:00"
        ]
       ],
       "shape": {
        "columns": 10,
        "rows": 5
       }
      },
      "text/html": [
       "<div>\n",
       "<style scoped>\n",
       "    .dataframe tbody tr th:only-of-type {\n",
       "        vertical-align: middle;\n",
       "    }\n",
       "\n",
       "    .dataframe tbody tr th {\n",
       "        vertical-align: top;\n",
       "    }\n",
       "\n",
       "    .dataframe thead th {\n",
       "        text-align: right;\n",
       "    }\n",
       "</style>\n",
       "<table border=\"1\" class=\"dataframe\">\n",
       "  <thead>\n",
       "    <tr style=\"text-align: right;\">\n",
       "      <th></th>\n",
       "      <th>Customer ID</th>\n",
       "      <th>Name</th>\n",
       "      <th>Age</th>\n",
       "      <th>Gender</th>\n",
       "      <th>Address</th>\n",
       "      <th>Email</th>\n",
       "      <th>Phone Number</th>\n",
       "      <th>Account Type</th>\n",
       "      <th>Account Balance</th>\n",
       "      <th>Registration Date</th>\n",
       "    </tr>\n",
       "  </thead>\n",
       "  <tbody>\n",
       "    <tr>\n",
       "      <th>0</th>\n",
       "      <td>24b6ef4a-6310-40de-b589-60d4b75f68e5</td>\n",
       "      <td>Mark Montgomery</td>\n",
       "      <td>47</td>\n",
       "      <td>Female</td>\n",
       "      <td>52662 Olsen Keys Apt. 350\\r\\nNew Lauren, KS 90632</td>\n",
       "      <td>sanchezkyle@hotmail.com</td>\n",
       "      <td>190-175-3164x84539</td>\n",
       "      <td>Checking</td>\n",
       "      <td>9391.74</td>\n",
       "      <td>2024-03-19</td>\n",
       "    </tr>\n",
       "    <tr>\n",
       "      <th>1</th>\n",
       "      <td>a0ae8e10-73eb-4bfe-8187-5760c4a243e6</td>\n",
       "      <td>Jason King</td>\n",
       "      <td>84</td>\n",
       "      <td>Male</td>\n",
       "      <td>13849 Romero Stream\\r\\nJacquelinechester, ND 3...</td>\n",
       "      <td>elewis@hotmail.com</td>\n",
       "      <td>001-985-792-0564</td>\n",
       "      <td>Checking</td>\n",
       "      <td>8395.59</td>\n",
       "      <td>2021-06-19</td>\n",
       "    </tr>\n",
       "    <tr>\n",
       "      <th>2</th>\n",
       "      <td>56c99350-9f0f-4cfc-8f8a-379b0c7848df</td>\n",
       "      <td>Steven Whitaker</td>\n",
       "      <td>86</td>\n",
       "      <td>Female</td>\n",
       "      <td>3801 Brianna Ways\\r\\nThomasmouth, KY 06857</td>\n",
       "      <td>simmonschristopher@johnston.info</td>\n",
       "      <td>(245)011-5138</td>\n",
       "      <td>Savings</td>\n",
       "      <td>35086.30</td>\n",
       "      <td>2020-06-25</td>\n",
       "    </tr>\n",
       "    <tr>\n",
       "      <th>3</th>\n",
       "      <td>31398298-f9c6-40c2-8c56-9a9717c46b65</td>\n",
       "      <td>Terri Lucero</td>\n",
       "      <td>59</td>\n",
       "      <td>Male</td>\n",
       "      <td>026 Norman Villages Suite 475\\r\\nSouth Christo...</td>\n",
       "      <td>mbeltran@gmail.com</td>\n",
       "      <td>432.911.9239x197</td>\n",
       "      <td>Checking</td>\n",
       "      <td>93745.80</td>\n",
       "      <td>2024-05-17</td>\n",
       "    </tr>\n",
       "    <tr>\n",
       "      <th>4</th>\n",
       "      <td>282692f2-6693-4f4d-9beb-50239666f9fc</td>\n",
       "      <td>Jeremy Mason</td>\n",
       "      <td>25</td>\n",
       "      <td>Female</td>\n",
       "      <td>9115 Lee Route Apt. 784\\r\\nSanchezmouth, DC 07910</td>\n",
       "      <td>carrie14@gmail.com</td>\n",
       "      <td>001-148-679-2508x961</td>\n",
       "      <td>Checking</td>\n",
       "      <td>3484.77</td>\n",
       "      <td>2021-05-29</td>\n",
       "    </tr>\n",
       "  </tbody>\n",
       "</table>\n",
       "</div>"
      ],
      "text/plain": [
       "                            Customer ID             Name  Age  Gender  \\\n",
       "0  24b6ef4a-6310-40de-b589-60d4b75f68e5  Mark Montgomery   47  Female   \n",
       "1  a0ae8e10-73eb-4bfe-8187-5760c4a243e6       Jason King   84    Male   \n",
       "2  56c99350-9f0f-4cfc-8f8a-379b0c7848df  Steven Whitaker   86  Female   \n",
       "3  31398298-f9c6-40c2-8c56-9a9717c46b65     Terri Lucero   59    Male   \n",
       "4  282692f2-6693-4f4d-9beb-50239666f9fc     Jeremy Mason   25  Female   \n",
       "\n",
       "                                             Address  \\\n",
       "0  52662 Olsen Keys Apt. 350\\r\\nNew Lauren, KS 90632   \n",
       "1  13849 Romero Stream\\r\\nJacquelinechester, ND 3...   \n",
       "2         3801 Brianna Ways\\r\\nThomasmouth, KY 06857   \n",
       "3  026 Norman Villages Suite 475\\r\\nSouth Christo...   \n",
       "4  9115 Lee Route Apt. 784\\r\\nSanchezmouth, DC 07910   \n",
       "\n",
       "                              Email          Phone Number Account Type  \\\n",
       "0           sanchezkyle@hotmail.com    190-175-3164x84539     Checking   \n",
       "1                elewis@hotmail.com      001-985-792-0564     Checking   \n",
       "2  simmonschristopher@johnston.info         (245)011-5138      Savings   \n",
       "3                mbeltran@gmail.com      432.911.9239x197     Checking   \n",
       "4                carrie14@gmail.com  001-148-679-2508x961     Checking   \n",
       "\n",
       "   Account Balance Registration Date  \n",
       "0          9391.74        2024-03-19  \n",
       "1          8395.59        2021-06-19  \n",
       "2         35086.30        2020-06-25  \n",
       "3         93745.80        2024-05-17  \n",
       "4          3484.77        2021-05-29  "
      ]
     },
     "execution_count": 72,
     "metadata": {},
     "output_type": "execute_result"
    }
   ],
   "source": [
    "datos_modif.head()"
   ]
  },
  {
   "cell_type": "markdown",
   "id": "117a7777",
   "metadata": {},
   "source": [
    "Ya limpios los datos podemos empezar a responder las diferentes preguntas"
   ]
  },
  {
   "cell_type": "markdown",
   "id": "a4bb471a",
   "metadata": {},
   "source": [
    "# ¿Cual es la distribución de Edad y Genero de los Clientes?"
   ]
  },
  {
   "cell_type": "code",
   "execution_count": 73,
   "id": "4fe2a99c",
   "metadata": {},
   "outputs": [
    {
     "name": "stderr",
     "output_type": "stream",
     "text": [
      "C:\\Users\\Vicente\\AppData\\Local\\Temp\\ipykernel_15000\\2656120961.py:2: FutureWarning: The default of observed=False is deprecated and will be changed to True in a future version of pandas. Pass observed=False to retain current behavior or observed=True to adopt the future default and silence this warning.\n",
      "  datos_edad_genero = datos_modif.groupby(['Age', 'Gender']).size().reset_index(name='total')\n"
     ]
    }
   ],
   "source": [
    "#Agrupamos por edad y Genero para contar las cantidades de coincidencias\n",
    "datos_edad_genero = datos_modif.groupby(['Age', 'Gender']).size().reset_index(name='total')\n",
    "\n",
    "# Se crean etiquetas para rangos a verificar\n",
    "valores = ['18 a 19', '20 a 29', '30 a 39', '40 a 49', '50 a 59', '60 a 69', '70 a 79', '80 a 89', '90+']\n",
    "bins = [18, 20, 30, 40, 50, 60, 70, 80, 90, 100]\n",
    "datos_edad_genero[\"edad_bins\"] = pd.cut(datos_edad_genero[\"Age\"], bins=bins, labels=valores,\n",
    "                                                       right=False)\n"
   ]
  },
  {
   "cell_type": "code",
   "execution_count": 74,
   "id": "b852d6d9",
   "metadata": {},
   "outputs": [
    {
     "data": {
      "text/plain": [
       "[Text(0.5, 0, 'Rangos Edad'),\n",
       " Text(0, 0.5, 'Cant. Clientes'),\n",
       " Text(0.5, 1.0, 'Distribucion Edad y Genero de Clientes')]"
      ]
     },
     "execution_count": 74,
     "metadata": {},
     "output_type": "execute_result"
    },
    {
     "data": {
      "image/png": "[encoded data removed]",
      "text/plain": [
       "<Figure size 640x480 with 1 Axes>"
      ]
     },
     "metadata": {},
     "output_type": "display_data"
    }
   ],
   "source": [
    "# Creacion del grafico\n",
    "graf_distrib_edad_genero = sb.barplot(\n",
    "    data=datos_edad_genero, x='edad_bins', y='total', \n",
    "    hue=\"Gender\", hue_order=[\"Male\", \"Female\"], estimator=\"sum\",errorbar=None\n",
    ")\n",
    "\n",
    "#Mostrar los valores de cada barra en el grafico\n",
    "for p in graf_distrib_edad_genero.patches:\n",
    "    altura = p.get_height()\n",
    "    graf_distrib_edad_genero.annotate(\n",
    "        f'{int(altura)}',\n",
    "        (p.get_x() + p.get_width() / 2, altura),\n",
    "        ha='center', va='bottom',\n",
    "        fontsize=10, color='black', xytext=(0,1),\n",
    "        textcoords='offset points'\n",
    "    )\n",
    "\n",
    "# Modificar nombre de las leyendas\n",
    "leyendas = graf_distrib_edad_genero.legend(loc='center right', bbox_to_anchor=(1.2, 0.5))\n",
    "for texto, nombre in zip(leyendas.texts, [\"Masc\", \"Fem\"]):\n",
    "    texto.set_text(nombre)\n",
    "\n",
    "# modificar valores en el eje x\n",
    "mpl.pyplot.xticks(rotation=45)\n",
    "graf_distrib_edad_genero.set(xlabel=\"Rangos Edad\", ylabel=\"Cant. Clientes\", title=\"Distribucion Edad y Genero de Clientes\")"
   ]
  },
  {
   "cell_type": "markdown",
   "id": "e7df033d",
   "metadata": {},
   "source": [
    "Segun se puede interpretar, la mayoria de los clientes, ya sean hombres o mujeres, se encuentran entre la edades de 20 a 89, los datos minimos estan en los rangos 18 a 19 y 90+ para ambos casos.\n",
    "\n",
    "Se puede verificar que la cantidad de clientes femeninos va en incremento desde los 18 a los 49, para luego descender un poco de los 49 a los 59, para luego incrementar hasta los 69, para terminar disminuyendo desde los 69 a mas de los 90.\n",
    "\n",
    "En el caso de los clientes masculinos se ve un incrementeo explosivo entre los 18 a 29, luego disminuye sus de los 39 a 49, para luego incrementar nuevamente de los 49 a los 60 y decrecer de los 69 a mas de los 90."
   ]
  },
  {
   "cell_type": "markdown",
   "id": "5a721d6b",
   "metadata": {},
   "source": [
    "# ¿Que rangos de edad predominan en para cada tipo de cuenta?"
   ]
  },
  {
   "cell_type": "code",
   "execution_count": 75,
   "id": "3f73046e",
   "metadata": {},
   "outputs": [
    {
     "data": {
      "text/plain": [
       "['Checking', 'Savings']"
      ]
     },
     "execution_count": 75,
     "metadata": {},
     "output_type": "execute_result"
    }
   ],
   "source": [
    "datos_modif[\"Account Type\"].unique().tolist() # Obtenemos los tipos de cuentas en los datos"
   ]
  },
  {
   "cell_type": "markdown",
   "id": "dc9a9265",
   "metadata": {},
   "source": [
    "Con esto sabemos que tipo de cuentas poseemos en el conjunto de datos, para luego poder trabajar los datos de forma correcta."
   ]
  },
  {
   "cell_type": "code",
   "execution_count": 76,
   "id": "691cbfc3",
   "metadata": {},
   "outputs": [
    {
     "name": "stderr",
     "output_type": "stream",
     "text": [
      "C:\\Users\\Vicente\\AppData\\Local\\Temp\\ipykernel_15000\\3509178001.py:16: FutureWarning: The default of observed=False is deprecated and will be changed to True in a future version of pandas. Pass observed=False to retain current behavior or observed=True to adopt the future default and silence this warning.\n",
      "  datos_tipoCuenta_edad = datos_tipoCuenta_edad.groupby('rangos')\\\n"
     ]
    },
    {
     "data": {
      "application/vnd.microsoft.datawrangler.viewer.v0+json": {
       "columns": [
        {
         "name": "index",
         "rawType": "int64",
         "type": "integer"
        },
        {
         "name": "('rangos', '')",
         "rawType": "category",
         "type": "unknown"
        },
        {
         "name": "('Account Type', 'ahorro')",
         "rawType": "int64",
         "type": "integer"
        },
        {
         "name": "('Account Type', 'cheque')",
         "rawType": "int64",
         "type": "integer"
        },
        {
         "name": "('total_cuentas', '')",
         "rawType": "int64",
         "type": "integer"
        }
       ],
       "ref": "48c702f5-626e-4db6-b463-2a88e4111bd5",
       "rows": [
        [
         "0",
         "18 a 19",
         "35",
         "46",
         "81"
        ],
        [
         "1",
         "20 a 29",
         "218",
         "204",
         "422"
        ],
        [
         "2",
         "30 a 39",
         "185",
         "251",
         "436"
        ],
        [
         "3",
         "40 a 49",
         "210",
         "203",
         "413"
        ],
        [
         "4",
         "50 a 59",
         "188",
         "214",
         "402"
        ],
        [
         "5",
         "60 a 69",
         "211",
         "221",
         "432"
        ],
        [
         "6",
         "70 a 79",
         "180",
         "208",
         "388"
        ],
        [
         "7",
         "80 a 89",
         "194",
         "188",
         "382"
        ],
        [
         "8",
         "90+",
         "24",
         "20",
         "44"
        ]
       ],
       "shape": {
        "columns": 4,
        "rows": 9
       }
      },
      "text/html": [
       "<div>\n",
       "<style scoped>\n",
       "    .dataframe tbody tr th:only-of-type {\n",
       "        vertical-align: middle;\n",
       "    }\n",
       "\n",
       "    .dataframe tbody tr th {\n",
       "        vertical-align: top;\n",
       "    }\n",
       "\n",
       "    .dataframe thead tr th {\n",
       "        text-align: left;\n",
       "    }\n",
       "</style>\n",
       "<table border=\"1\" class=\"dataframe\">\n",
       "  <thead>\n",
       "    <tr>\n",
       "      <th></th>\n",
       "      <th>rangos</th>\n",
       "      <th colspan=\"2\" halign=\"left\">Account Type</th>\n",
       "      <th>total_cuentas</th>\n",
       "    </tr>\n",
       "    <tr>\n",
       "      <th></th>\n",
       "      <th></th>\n",
       "      <th>ahorro</th>\n",
       "      <th>cheque</th>\n",
       "      <th></th>\n",
       "    </tr>\n",
       "  </thead>\n",
       "  <tbody>\n",
       "    <tr>\n",
       "      <th>0</th>\n",
       "      <td>18 a 19</td>\n",
       "      <td>35</td>\n",
       "      <td>46</td>\n",
       "      <td>81</td>\n",
       "    </tr>\n",
       "    <tr>\n",
       "      <th>1</th>\n",
       "      <td>20 a 29</td>\n",
       "      <td>218</td>\n",
       "      <td>204</td>\n",
       "      <td>422</td>\n",
       "    </tr>\n",
       "    <tr>\n",
       "      <th>2</th>\n",
       "      <td>30 a 39</td>\n",
       "      <td>185</td>\n",
       "      <td>251</td>\n",
       "      <td>436</td>\n",
       "    </tr>\n",
       "    <tr>\n",
       "      <th>3</th>\n",
       "      <td>40 a 49</td>\n",
       "      <td>210</td>\n",
       "      <td>203</td>\n",
       "      <td>413</td>\n",
       "    </tr>\n",
       "    <tr>\n",
       "      <th>4</th>\n",
       "      <td>50 a 59</td>\n",
       "      <td>188</td>\n",
       "      <td>214</td>\n",
       "      <td>402</td>\n",
       "    </tr>\n",
       "    <tr>\n",
       "      <th>5</th>\n",
       "      <td>60 a 69</td>\n",
       "      <td>211</td>\n",
       "      <td>221</td>\n",
       "      <td>432</td>\n",
       "    </tr>\n",
       "    <tr>\n",
       "      <th>6</th>\n",
       "      <td>70 a 79</td>\n",
       "      <td>180</td>\n",
       "      <td>208</td>\n",
       "      <td>388</td>\n",
       "    </tr>\n",
       "    <tr>\n",
       "      <th>7</th>\n",
       "      <td>80 a 89</td>\n",
       "      <td>194</td>\n",
       "      <td>188</td>\n",
       "      <td>382</td>\n",
       "    </tr>\n",
       "    <tr>\n",
       "      <th>8</th>\n",
       "      <td>90+</td>\n",
       "      <td>24</td>\n",
       "      <td>20</td>\n",
       "      <td>44</td>\n",
       "    </tr>\n",
       "  </tbody>\n",
       "</table>\n",
       "</div>"
      ],
      "text/plain": [
       "    rangos Account Type        total_cuentas\n",
       "                 ahorro cheque              \n",
       "0  18 a 19           35     46            81\n",
       "1  20 a 29          218    204           422\n",
       "2  30 a 39          185    251           436\n",
       "3  40 a 49          210    203           413\n",
       "4  50 a 59          188    214           402\n",
       "5  60 a 69          211    221           432\n",
       "6  70 a 79          180    208           388\n",
       "7  80 a 89          194    188           382\n",
       "8      90+           24     20            44"
      ]
     },
     "execution_count": 76,
     "metadata": {},
     "output_type": "execute_result"
    }
   ],
   "source": [
    "#Agrupamos por edad y sumamos las cuentas segun los tipos \n",
    "datos_tipoCuenta_edad = datos_modif.groupby(['Age'])\\\n",
    "    .agg({\n",
    "        'Account Type': [\n",
    "            ('ahorro', lambda x : (x == \"Savings\").sum()),\n",
    "            ('cheque', lambda x : (x == \"Checking\").sum())\n",
    "        ]\n",
    "    }).reset_index()\n",
    "\n",
    "# Se crean etiquetas para rangos a verificar\n",
    "valores = ['18 a 19', '20 a 29', '30 a 39', '40 a 49', '50 a 59', '60 a 69', '70 a 79', '80 a 89', '90+']\n",
    "bins = [18, 20, 30, 40, 50, 60, 70, 80, 90, 100]\n",
    "datos_tipoCuenta_edad[\"rangos\"] = pd.cut(datos_tipoCuenta_edad[\"Age\"], bins=bins, labels=valores,\n",
    "                                        right=False)\n",
    "\n",
    "datos_tipoCuenta_edad = datos_tipoCuenta_edad.groupby('rangos')\\\n",
    "    .agg({\n",
    "        ('Account Type', 'ahorro'): 'sum',\n",
    "        ('Account Type', 'cheque'): 'sum'\n",
    "    },\n",
    "    {'total_cuentas': 'sum'}).reset_index()\n",
    "\n",
    "datos_tipoCuenta_edad[\"total_cuentas\"] = (datos_tipoCuenta_edad[\"Account Type\"][\"ahorro\"] \n",
    "                                          + datos_tipoCuenta_edad[\"Account Type\"][\"cheque\"])\n",
    "\n",
    "datos_tipoCuenta_edad"
   ]
  },
  {
   "cell_type": "code",
   "execution_count": 77,
   "id": "af085442",
   "metadata": {},
   "outputs": [
    {
     "data": {
      "image/png": "[encoded data removed]",
      "text/plain": [
       "<Figure size 1400x800 with 1 Axes>"
      ]
     },
     "metadata": {},
     "output_type": "display_data"
    }
   ],
   "source": [
    "#Creamos el grafico de barras horizontal\n",
    "# se ingresan los datos\n",
    "rangos = datos_tipoCuenta_edad['rangos'].astype(str)  # eje y\n",
    "ahorro = datos_tipoCuenta_edad[('Account Type', 'ahorro')] \n",
    "cheque = datos_tipoCuenta_edad[('Account Type', 'cheque')]\n",
    "\n",
    "#Calculamos el total por rango\n",
    "total = ahorro + cheque\n",
    "\n",
    "#Calcular el porcentaje por rango\n",
    "porc_ahorro = (ahorro / total) * 100\n",
    "porc_cheque = (cheque / total) * 100\n",
    "\n",
    "ahorro_vals = ahorro.values\n",
    "cheque_vals = cheque.values\n",
    "\n",
    "mpl.pyplot.figure(figsize=(14, 8))\n",
    "\n",
    "# Posición en eje y\n",
    "y_pos = np.arange(len(rangos))\n",
    "\n",
    "# Se agregan las barras\n",
    "mpl.pyplot.barh(y_pos, ahorro, label='Ahorro', color=\"#006C00\")\n",
    "mpl.pyplot.barh(y_pos, cheque, left=ahorro, label='Cheque', color=\"#7B7B01FF\")  # se usa left para apilar las barras\n",
    "\n",
    "mpl.pyplot.yticks(y_pos, rangos)\n",
    "mpl.pyplot.ylabel('Rangos de Edad')\n",
    "mpl.pyplot.xlabel('Cantidad')\n",
    "mpl.pyplot.legend()\n",
    "mpl.pyplot.title('Cuentas de Ahorro y Cheque por Rangos')\n",
    "\n",
    "#Se agregan etiquetas de cantidad y porcentaje para ahorro\n",
    "for i in range(len(rangos)):\n",
    "    mpl.pyplot.text( ahorro[i]+cheque[i]+12, y_pos[i], f\"{ahorro_vals[i]}\\n({porc_ahorro.iloc[i]:.1f}%)\", va='bottom', ha='center', \n",
    "                    color='#006C00')\n",
    "\n",
    "#Etiquetas de barras cheque\n",
    "for i in range(len(rangos)):\n",
    "    mpl.pyplot.text(ahorro[i]+cheque[i]+12, y_pos[i], f\"{cheque_vals[i]}\\n({porc_cheque.iloc[i]:.1f}%)\",va='top', ha='center', \n",
    "                    color=\"#7B7B01FF\" )\n",
    "\n",
    "\n",
    "mpl.pyplot.show()\n"
   ]
  },
  {
   "cell_type": "code",
   "execution_count": 78,
   "id": "c1df4b8c",
   "metadata": {},
   "outputs": [
    {
     "name": "stderr",
     "output_type": "stream",
     "text": [
      "C:\\Users\\Vicente\\AppData\\Local\\Temp\\ipykernel_15000\\500369001.py:2: FutureWarning: The default of observed=False is deprecated and will be changed to True in a future version of pandas. Pass observed=False to retain current behavior or observed=True to adopt the future default and silence this warning.\n",
      "  cant_porcent_datos_tipoCuenta = datos_modif.groupby(\"Account Type\").size().reset_index(name='total')\n"
     ]
    },
    {
     "data": {
      "application/vnd.microsoft.datawrangler.viewer.v0+json": {
       "columns": [
        {
         "name": "index",
         "rawType": "int64",
         "type": "integer"
        },
        {
         "name": "Account Type",
         "rawType": "category",
         "type": "unknown"
        },
        {
         "name": "total",
         "rawType": "int64",
         "type": "integer"
        },
        {
         "name": "porc_total",
         "rawType": "float64",
         "type": "float"
        }
       ],
       "ref": "30ec723e-b355-42ff-a8cf-769dea7936bf",
       "rows": [
        [
         "0",
         "Checking",
         "1555",
         "51.83333333333333"
        ],
        [
         "1",
         "Savings",
         "1445",
         "48.16666666666667"
        ]
       ],
       "shape": {
        "columns": 3,
        "rows": 2
       }
      },
      "text/html": [
       "<div>\n",
       "<style scoped>\n",
       "    .dataframe tbody tr th:only-of-type {\n",
       "        vertical-align: middle;\n",
       "    }\n",
       "\n",
       "    .dataframe tbody tr th {\n",
       "        vertical-align: top;\n",
       "    }\n",
       "\n",
       "    .dataframe thead th {\n",
       "        text-align: right;\n",
       "    }\n",
       "</style>\n",
       "<table border=\"1\" class=\"dataframe\">\n",
       "  <thead>\n",
       "    <tr style=\"text-align: right;\">\n",
       "      <th></th>\n",
       "      <th>Account Type</th>\n",
       "      <th>total</th>\n",
       "      <th>porc_total</th>\n",
       "    </tr>\n",
       "  </thead>\n",
       "  <tbody>\n",
       "    <tr>\n",
       "      <th>0</th>\n",
       "      <td>Checking</td>\n",
       "      <td>1555</td>\n",
       "      <td>51.833333</td>\n",
       "    </tr>\n",
       "    <tr>\n",
       "      <th>1</th>\n",
       "      <td>Savings</td>\n",
       "      <td>1445</td>\n",
       "      <td>48.166667</td>\n",
       "    </tr>\n",
       "  </tbody>\n",
       "</table>\n",
       "</div>"
      ],
      "text/plain": [
       "  Account Type  total  porc_total\n",
       "0     Checking   1555   51.833333\n",
       "1      Savings   1445   48.166667"
      ]
     },
     "execution_count": 78,
     "metadata": {},
     "output_type": "execute_result"
    }
   ],
   "source": [
    "# cant_tipoCuenta_total_porcent = datos_modif.groupby(['Account Type']).sum()\n",
    "cant_porcent_datos_tipoCuenta = datos_modif.groupby(\"Account Type\").size().reset_index(name='total')\n",
    "\n",
    "cant_porcent_datos_tipoCuenta[\"porc_total\"] = (cant_porcent_datos_tipoCuenta[\"total\"]/cant_porcent_datos_tipoCuenta[\"total\"].sum())*100\n",
    "\n",
    "cant_porcent_datos_tipoCuenta\n"
   ]
  },
  {
   "cell_type": "markdown",
   "id": "1cd02a11",
   "metadata": {},
   "source": [
    "Como se puede ver en el grafico, las predominancias segun rango etario serian las siguientes:\n",
    "- 90+: Cuenta tipo Cheque con 54.5%\n",
    "- 80 a 89: Cuenta tipo Ahorro con 50.8%\n",
    "- 70 a 79: Cuenta tipo Cheque con 53.6%\n",
    "- 60 a 69: Cuenta tipo Cheque con 51.2%\n",
    "- 50 a 59: Cuenta tipo Cheque con 53.2%\n",
    "- 40 a 49: Cuenta tipo Ahorro con 50.8%\n",
    "- 30 a 39: Cuenta tipo Cheque con 57.6%\n",
    "- 20 a 29: Cuenta tipo Ahorro con 51.7%\n",
    "- 18 a 19: Cuenta tipo Cheque con 56.8%\n",
    "\n",
    "Por lo que se puede ver que en el universo de datos analizados predomina el tipo de cuenta \"Cheque\"(Chekings) con 1555 cuentas lo que equvale al 54.8% contra las cuenta de ahorro(Savings) con 1445 lo que equivale al 48.2% del total"
   ]
  },
  {
   "cell_type": "markdown",
   "id": "863b33fe",
   "metadata": {},
   "source": [
    "# ¿Cuál es la distribución geográfica (basada en dirección) de los clientes?\n",
    "Para poder verificar esto, obtendremos la informacion y los limpiaremos el dato de dirección que poseen los datos"
   ]
  },
  {
   "cell_type": "code",
   "execution_count": 79,
   "id": "7e676219",
   "metadata": {},
   "outputs": [
    {
     "data": {
      "text/plain": [
       "Index(['Customer ID', 'Name', 'Age', 'Gender', 'Address', 'Email',\n",
       "       'Phone Number', 'Account Type', 'Account Balance', 'Registration Date'],\n",
       "      dtype='object')"
      ]
     },
     "execution_count": 79,
     "metadata": {},
     "output_type": "execute_result"
    }
   ],
   "source": [
    "datos_modif.columns"
   ]
  },
  {
   "cell_type": "code",
   "execution_count": 80,
   "id": "18c08d89",
   "metadata": {},
   "outputs": [
    {
     "data": {
      "application/vnd.microsoft.datawrangler.viewer.v0+json": {
       "columns": [
        {
         "name": "State",
         "rawType": "string",
         "type": "string"
        },
        {
         "name": "clientes",
         "rawType": "int64",
         "type": "integer"
        }
       ],
       "ref": "95cf33b8-4fc9-4952-8cf3-8764d7acb324",
       "rows": [
        [
         "AA",
         "92"
        ],
        [
         "AE",
         "93"
        ],
        [
         "AK",
         "50"
        ],
        [
         "AL",
         "54"
        ],
        [
         "AP",
         "103"
        ]
       ],
       "shape": {
        "columns": 1,
        "rows": 5
       }
      },
      "text/html": [
       "<div>\n",
       "<style scoped>\n",
       "    .dataframe tbody tr th:only-of-type {\n",
       "        vertical-align: middle;\n",
       "    }\n",
       "\n",
       "    .dataframe tbody tr th {\n",
       "        vertical-align: top;\n",
       "    }\n",
       "\n",
       "    .dataframe thead th {\n",
       "        text-align: right;\n",
       "    }\n",
       "</style>\n",
       "<table border=\"1\" class=\"dataframe\">\n",
       "  <thead>\n",
       "    <tr style=\"text-align: right;\">\n",
       "      <th></th>\n",
       "      <th>clientes</th>\n",
       "    </tr>\n",
       "    <tr>\n",
       "      <th>State</th>\n",
       "      <th></th>\n",
       "    </tr>\n",
       "  </thead>\n",
       "  <tbody>\n",
       "    <tr>\n",
       "      <th>AA</th>\n",
       "      <td>92</td>\n",
       "    </tr>\n",
       "    <tr>\n",
       "      <th>AE</th>\n",
       "      <td>93</td>\n",
       "    </tr>\n",
       "    <tr>\n",
       "      <th>AK</th>\n",
       "      <td>50</td>\n",
       "    </tr>\n",
       "    <tr>\n",
       "      <th>AL</th>\n",
       "      <td>54</td>\n",
       "    </tr>\n",
       "    <tr>\n",
       "      <th>AP</th>\n",
       "      <td>103</td>\n",
       "    </tr>\n",
       "  </tbody>\n",
       "</table>\n",
       "</div>"
      ],
      "text/plain": [
       "       clientes\n",
       "State          \n",
       "AA           92\n",
       "AE           93\n",
       "AK           50\n",
       "AL           54\n",
       "AP          103"
      ]
     },
     "execution_count": 80,
     "metadata": {},
     "output_type": "execute_result"
    }
   ],
   "source": [
    "# Obtener datos a manejar\n",
    "distrib_geograf = datos_modif[[\"Customer ID\", \"Address\"]].copy()\n",
    "distrib_geograf_noModif = datos_modif[[\"Customer ID\", \"Address\"]].copy()\n",
    "\n",
    "# Separaremos la dirección de su estado\n",
    "distrib_geograf[\"State\"] = distrib_geograf[\"Address\"].str.split(',').str[1].str.split(' ').str[1]\n",
    "distrib_geograf_noModif[\"State\"] = distrib_geograf_noModif[\"Address\"].str.split(',').str[1].str.split(' ').str[1]\n",
    "\n",
    "# # Convertir State a string\n",
    "distrib_geograf = distrib_geograf.astype({'State': 'string'})\n",
    "\n",
    "#Condiciones de modificacion de estados militares\n",
    "condicionAA = distrib_geograf[\"Address\"].str.contains(' AA ')\n",
    "condicionAP = distrib_geograf[\"Address\"].str.contains(' AP ')\n",
    "condicionAE = distrib_geograf[\"Address\"].str.contains(' AE ')\n",
    "\n",
    "# modificaciones a estados militares\n",
    "distrib_geograf.loc[condicionAA, 'State'] = 'AA'\n",
    "distrib_geograf.loc[condicionAP, 'State'] = 'AP'\n",
    "distrib_geograf.loc[condicionAE, 'State'] = 'AE'\n",
    "\n",
    "# Creacion de la tabla para el grafico de distribucion geografica\n",
    "distrib_geograf = distrib_geograf.groupby('State').agg(clientes=('Customer ID', 'count'))\n",
    "distrib_geograf.head()"
   ]
  },
  {
   "cell_type": "markdown",
   "id": "34e90542",
   "metadata": {},
   "source": [
    "Ya obtenida la tabla para la distribucion geografica, procedemos a crear el grafico"
   ]
  },
  {
   "cell_type": "code",
   "execution_count": 81,
   "id": "883204b7",
   "metadata": {},
   "outputs": [
    {
     "data": {
      "image/png": "[encoded data removed]",
      "text/plain": [
       "<Figure size 500x1500 with 1 Axes>"
      ]
     },
     "metadata": {},
     "output_type": "display_data"
    }
   ],
   "source": [
    "# Se ordena de mayor a menor la tabla\n",
    "distrib_geograf = distrib_geograf.sort_values(\"clientes\",ascending=True)\n",
    "\n",
    "\n",
    "mpl.pyplot.figure(figsize=(5, 15))  # Tamaño ajustable\n",
    "grafico_dist_geograf = mpl.pyplot.barh(distrib_geograf.index, distrib_geograf['clientes'])\n",
    "mpl.pyplot.xlabel('Número de Clientes')\n",
    "mpl.pyplot.ylabel('Estado')\n",
    "mpl.pyplot.title('Distribución de Clientes por Estado')\n",
    "\n",
    "# Se muestra la etiqueta de graficos\n",
    "for i, barra in enumerate(grafico_dist_geograf):\n",
    "    ancho = barra.get_width() # Se obtiene el ancho de las barras\n",
    "    mpl.pyplot.text( ancho*0.75, barra.get_y() + barra.get_height()/2, # posicion ligeramente a la derecha\n",
    "                    f'{int(ancho)}', # Valor entero de la etiqueta\n",
    "                    ha='left',  va='center', fontsize=10, fontweight='bold') # Alienacion y estilo\n",
    "\n",
    "mpl.pyplot.show()  # Muestra el gráfico"
   ]
  },
  {
   "cell_type": "markdown",
   "id": "9ed93b18",
   "metadata": {},
   "source": [
    "**Para informacion del usuario, se encontraron 3 estados que no coincidian a estados presentes en Estados Unidos( AP, AE, AA), estos corresponden a direcciones militares para correo postal en el extranjero.**\n",
    "\n",
    "Tomando lo dicho en la parte superior y mirando el grafico los datos terminan de la siguiente manera:\n",
    "\n",
    "- El top 5 de estados con mayor cantidad de clientes tomando en cuenta las postales militares son:\n",
    "    - AP (Armed Forces Pacific) con 103 clientes\n",
    "    - AE (Armed Forces Europe, Middle East, Africa, and Canada) con 96 clientes\n",
    "    - AA (Armed Forces Americas) con 95 clientes\n",
    "    - SC (Carolina del Sur) con 68 clientes\n",
    "    - NH (Nuevo Hampshire) con 66 Clientes\n",
    "\n",
    "- En caso de no tomarlos en cuenta el top 5 serian:\n",
    "    - SC (Carolina del Sur) con 68 clientes\n",
    "    - NH (Nuevo Hampshire) con 66 Clientes\n",
    "    - UT (Utah) con 64 clientes\n",
    "    - LA (Luisiana) con 64 clientes\n",
    "    - DE (Delawere) con 64 clientes\n",
    "\n",
    "- Como se puede apreciar en el grafico, los estados con menos clientes son MD, WY, ID, VT\n",
    "\n",
    "Estos datos nos dan a entender la disposicion geografica de los clientes, destacando con grandes cantidades los estados de direcciones militares frente a los estados civiles.\n"
   ]
  },
  {
   "cell_type": "markdown",
   "id": "3ad6adb0",
   "metadata": {},
   "source": [
    "# ¿Cuál es el rango y promedio del saldo de cuenta por tipo de cuenta?"
   ]
  },
  {
   "cell_type": "markdown",
   "id": "40c0e079",
   "metadata": {},
   "source": [
    "Se procede a obtener los datos necesarios para el analisis de esta pregunta."
   ]
  },
  {
   "cell_type": "code",
   "execution_count": 82,
   "id": "efaa4c24",
   "metadata": {},
   "outputs": [
    {
     "data": {
      "application/vnd.microsoft.datawrangler.viewer.v0+json": {
       "columns": [
        {
         "name": "index",
         "rawType": "int64",
         "type": "integer"
        },
        {
         "name": "Account Type",
         "rawType": "category",
         "type": "unknown"
        },
        {
         "name": "saldo_min",
         "rawType": "float64",
         "type": "float"
        },
        {
         "name": "saldo_max",
         "rawType": "float64",
         "type": "float"
        },
        {
         "name": "saldo_prom",
         "rawType": "float64",
         "type": "float"
        }
       ],
       "ref": "c9740365-e404-4c3b-84e3-087caf68f8f4",
       "rows": [
        [
         "0",
         "Checking",
         "225.96",
         "99973.61",
         "51192.64356270096"
        ],
        [
         "1",
         "Savings",
         "100.77",
         "99965.69",
         "50377.879944636676"
        ]
       ],
       "shape": {
        "columns": 4,
        "rows": 2
       }
      },
      "text/html": [
       "<div>\n",
       "<style scoped>\n",
       "    .dataframe tbody tr th:only-of-type {\n",
       "        vertical-align: middle;\n",
       "    }\n",
       "\n",
       "    .dataframe tbody tr th {\n",
       "        vertical-align: top;\n",
       "    }\n",
       "\n",
       "    .dataframe thead th {\n",
       "        text-align: right;\n",
       "    }\n",
       "</style>\n",
       "<table border=\"1\" class=\"dataframe\">\n",
       "  <thead>\n",
       "    <tr style=\"text-align: right;\">\n",
       "      <th></th>\n",
       "      <th>Account Type</th>\n",
       "      <th>saldo_min</th>\n",
       "      <th>saldo_max</th>\n",
       "      <th>saldo_prom</th>\n",
       "    </tr>\n",
       "  </thead>\n",
       "  <tbody>\n",
       "    <tr>\n",
       "      <th>0</th>\n",
       "      <td>Checking</td>\n",
       "      <td>225.96</td>\n",
       "      <td>99973.61</td>\n",
       "      <td>51192.643563</td>\n",
       "    </tr>\n",
       "    <tr>\n",
       "      <th>1</th>\n",
       "      <td>Savings</td>\n",
       "      <td>100.77</td>\n",
       "      <td>99965.69</td>\n",
       "      <td>50377.879945</td>\n",
       "    </tr>\n",
       "  </tbody>\n",
       "</table>\n",
       "</div>"
      ],
      "text/plain": [
       "  Account Type  saldo_min  saldo_max    saldo_prom\n",
       "0     Checking     225.96   99973.61  51192.643563\n",
       "1      Savings     100.77   99965.69  50377.879945"
      ]
     },
     "execution_count": 82,
     "metadata": {},
     "output_type": "execute_result"
    }
   ],
   "source": [
    "# Obtenemos la copia para atacar esta pregunta\n",
    "rangoPromSaldo_tipoCuenta = datos_modif.copy().groupby(\"Account Type\",observed=False)\\\n",
    "        .agg(\n",
    "            saldo_min = (\"Account Balance\", \"min\"),\n",
    "            saldo_max = (\"Account Balance\", \"max\"),\n",
    "            saldo_prom = (\"Account Balance\", \"mean\")\n",
    "        ).reset_index()\n",
    "\n",
    "rangoPromSaldo_tipoCuenta"
   ]
  },
  {
   "cell_type": "markdown",
   "id": "5923330d",
   "metadata": {},
   "source": [
    "Obtenidos los datos pasamos a usarlos para el grafico"
   ]
  },
  {
   "cell_type": "code",
   "execution_count": 83,
   "id": "13c710fb",
   "metadata": {},
   "outputs": [
    {
     "data": {
      "image/png": "[encoded data removed]",
      "text/plain": [
       "<Figure size 800x500 with 1 Axes>"
      ]
     },
     "metadata": {},
     "output_type": "display_data"
    }
   ],
   "source": [
    "# Obtenemos el rango que poseen los datos\n",
    "x = np.arange(len(rangoPromSaldo_tipoCuenta))\n",
    "\n",
    "fig, ax = mpl.pyplot.subplots(figsize=(8,5)) # Posiciones en el eje x\n",
    "\n",
    "# barras para el rango min a max \n",
    "barras = ax.bar(x, rangoPromSaldo_tipoCuenta[\"saldo_max\"] - rangoPromSaldo_tipoCuenta[\"saldo_min\"], \n",
    "                bottom=rangoPromSaldo_tipoCuenta[\"saldo_min\"], alpha=0.5 )\n",
    "\n",
    "# Agregamos puntos para el promedio \n",
    "ax.scatter(x, rangoPromSaldo_tipoCuenta[\"saldo_prom\"], color='red', label='Promedio', zorder=5)\n",
    "\n",
    "# Etiquetas y leyendas\n",
    "ax.set_xticks(x) # Cantidad de barras\n",
    "ax.set_xticklabels(rangoPromSaldo_tipoCuenta[\"Account Type\"]) # Agregar etiqueta de tipo de cuenta\n",
    "# Etiquetas Grafico\n",
    "ax.set_ylabel('Saldo de Cuenta')\n",
    "ax.set_xlabel('Tipo de Cuenta')\n",
    "ax.set_title('Rango y Promedio de Saldo por Tipo de Cuenta')\n",
    "\n",
    "# Agregar etiquetas para min, max y promedio por barra\n",
    "for i in x:\n",
    "    ax.text(i, rangoPromSaldo_tipoCuenta[\"saldo_min\"][i]+4000, \n",
    "        f'Min: {rangoPromSaldo_tipoCuenta['saldo_min'][i]:.2f}', ha='center', va='top', fontsize=10)\n",
    "    ax.text(i, rangoPromSaldo_tipoCuenta[\"saldo_max\"][i], \n",
    "        f'Max: {rangoPromSaldo_tipoCuenta['saldo_max'][i]:.2f}', ha='center', va='bottom', fontsize=10)\n",
    "    ax.text(i, rangoPromSaldo_tipoCuenta[\"saldo_prom\"][i]+5000,\n",
    "        f'Promedio: {rangoPromSaldo_tipoCuenta[\"saldo_prom\"][i]:.2f}', ha='center', va='center', fontsize=10 )\n",
    "\n"
   ]
  },
  {
   "cell_type": "markdown",
   "id": "bb0fbf7c",
   "metadata": {},
   "source": [
    "Como se puede visualizar en el grafico, vemos que el promedio es muy cercano entre los tipos de cuentas en los datos.\n",
    "\n",
    "| Tipo de Cuenta | Promedio (Saldo) |\n",
    "|----------------|------------------|\n",
    "| **Checking**  | 5,119.64        | \n",
    "| **Savings**   | 5,037.88        |\n",
    "\n",
    "Lo que nos dice que existe un equilibrio en el uso de los tipos de cuentas.\n",
    "\n",
    "En temas de rangos, tenemos los siguientes datos.\n",
    "\n",
    "| Tipo de Cuenta | Mínimo (Saldo) | Máximo (Saldo) |\n",
    "|----------------|----------------|-------------------|\n",
    "| **Checking**  | 225.96        | 99,973.61      |\n",
    "| **Savings**   | 100.77        | 99,965.69     | \n",
    "\n",
    "Lo que nos dice que, el promedio de cada tipo de cuenta es muy similar, por lo que podemos decir que los tipos de cuentas pueden ser igual de volatiles entre ellas, ademas al ser los datos altos muy similares, nos dice tambien que existen clientes de alto valor en ambos categorias. Destacando que la diferencias del minimo entre las cuentas es bastante significativa (100.77 para Savings y 225.96 para Cheking)."
   ]
  },
  {
   "cell_type": "markdown",
   "id": "b48eaa51",
   "metadata": {},
   "source": [
    "# ¿Existe alguna relación entre edad, tipo de cuenta y saldo promedio?\n",
    "Procederemos a verificar si existe una relacion entre edad y saldo promedio por tipo de cuenta."
   ]
  },
  {
   "cell_type": "code",
   "execution_count": 84,
   "id": "294f3f5b",
   "metadata": {},
   "outputs": [
    {
     "data": {
      "application/vnd.microsoft.datawrangler.viewer.v0+json": {
       "columns": [
        {
         "name": "index",
         "rawType": "object",
         "type": "string"
        },
        {
         "name": "Age",
         "rawType": "float64",
         "type": "float"
        },
        {
         "name": "promedio_saldo",
         "rawType": "float64",
         "type": "float"
        }
       ],
       "ref": "33b24d3c-23d2-412e-b307-318d1a9cb41d",
       "rows": [
        [
         "Age",
         "1.0",
         "-0.08348967318779464"
        ],
        [
         "promedio_saldo",
         "-0.08348967318779464",
         "1.0"
        ]
       ],
       "shape": {
        "columns": 2,
        "rows": 2
       }
      },
      "text/html": [
       "<div>\n",
       "<style scoped>\n",
       "    .dataframe tbody tr th:only-of-type {\n",
       "        vertical-align: middle;\n",
       "    }\n",
       "\n",
       "    .dataframe tbody tr th {\n",
       "        vertical-align: top;\n",
       "    }\n",
       "\n",
       "    .dataframe thead th {\n",
       "        text-align: right;\n",
       "    }\n",
       "</style>\n",
       "<table border=\"1\" class=\"dataframe\">\n",
       "  <thead>\n",
       "    <tr style=\"text-align: right;\">\n",
       "      <th></th>\n",
       "      <th>Age</th>\n",
       "      <th>promedio_saldo</th>\n",
       "    </tr>\n",
       "  </thead>\n",
       "  <tbody>\n",
       "    <tr>\n",
       "      <th>Age</th>\n",
       "      <td>1.00000</td>\n",
       "      <td>-0.08349</td>\n",
       "    </tr>\n",
       "    <tr>\n",
       "      <th>promedio_saldo</th>\n",
       "      <td>-0.08349</td>\n",
       "      <td>1.00000</td>\n",
       "    </tr>\n",
       "  </tbody>\n",
       "</table>\n",
       "</div>"
      ],
      "text/plain": [
       "                    Age  promedio_saldo\n",
       "Age             1.00000        -0.08349\n",
       "promedio_saldo -0.08349         1.00000"
      ]
     },
     "execution_count": 84,
     "metadata": {},
     "output_type": "execute_result"
    }
   ],
   "source": [
    "# Obtenemos una copia para trabajar los datos\n",
    "datos_dispersion = datos_modif.copy()\n",
    "\n",
    "# Obtenemos el promedio de saldo por edad\n",
    "promedioSaldo_edad = datos_dispersion.groupby([\"Age\", \"Account Type\"],observed=False).agg(\n",
    "    promedio_saldo = (\"Account Balance\", \"mean\")\n",
    ").reset_index()\n",
    "\n",
    "# Ponemos como maximo 2 decimales a los promedios\n",
    "promedioSaldo_edad[\"promedio_saldo\"] = promedioSaldo_edad[\"promedio_saldo\"].round(2)\n",
    "\n",
    "correlacion = promedioSaldo_edad[[\"Age\", \"promedio_saldo\"]].corr(method=\"pearson\")\n",
    "\n",
    "correlacion"
   ]
  },
  {
   "cell_type": "markdown",
   "id": "c185f347",
   "metadata": {},
   "source": [
    "Al  hacer un analisis basico de correlacion entre la edad y el promedio de saldo, nos arroja que esta es ligeramente debil. Lo que significa que el saldo promedio debe disminuir segun la edad avanza pero de forma muy leve."
   ]
  },
  {
   "cell_type": "code",
   "execution_count": 85,
   "id": "386bc1d0",
   "metadata": {},
   "outputs": [
    {
     "name": "stderr",
     "output_type": "stream",
     "text": [
      "d:\\Proyectos de Analisis de datos\\analisisDatos_clientesBancarios\\Analisis\\analisis_bancario\\Lib\\site-packages\\seaborn\\regression.py:598: UserWarning: sharey is deprecated from the `lmplot` function signature. Please update your code to pass it using `facet_kws`.\n",
      "  warnings.warn(msg, UserWarning)\n"
     ]
    },
    {
     "data": {
      "text/plain": [
       "<Figure size 1200x500 with 0 Axes>"
      ]
     },
     "metadata": {},
     "output_type": "display_data"
    },
    {
     "data": {
      "image/png": "[encoded data removed]",
      "text/plain": [
       "<Figure size 1000x500 with 2 Axes>"
      ]
     },
     "metadata": {},
     "output_type": "display_data"
    }
   ],
   "source": [
    "# Creamos el grafico de dispersion.\n",
    "# Configuracion para mejor legibilidad\n",
    "sb.set_style(\"whitegrid\")\n",
    "mpl.pyplot.figure( figsize=(12,5) ) # Tamaño de de espacios\n",
    "\n",
    "#Graficos\n",
    "grafs = sb.lmplot(\n",
    "    data=promedioSaldo_edad, x=\"Age\", y=\"promedio_saldo\", hue=\"Account Type\",\n",
    "    col=\"Account Type\", ci=95, # Separacion por tipo cuenta,  intervalo de confianza\n",
    "    scatter_kws={'alpha':0.6}, # transparencia para siperposiciones\n",
    "    line_kws={'color': 'red', 'lw': 2}, # Grosor de linea \n",
    "    sharey=False\n",
    ")\n",
    "\n",
    "# Etiquetas\n",
    "grafs.set_axis_labels(\"Edad\", \"Saldo Promedio\")\n",
    "grafs.set_titles(\"Tipo Cuenta: {col_name}\") # formato titulos graficos\n",
    "grafs.fig.suptitle(\"Relacion entre Edad y Saldo Promedio por Tipo de Cuenta\", y=1.02, fontsize=14, \n",
    "                   fontweight='bold')\n",
    "\n",
    "\n",
    "\n",
    "mpl.pyplot.show()"
   ]
  },
  {
   "cell_type": "markdown",
   "id": "0927ef88",
   "metadata": {},
   "source": [
    "Al analizar los graficos separados por tipo de cuenta podemos ver lo siguiente:\n",
    "\n",
    "Existe una relacion negativa para ambos tipos de cuentas, pero lo que cambia entre estas es la reduccion de los saldos. En las cuentas de tipo Checking hay una relacion negativa moderada lo que quieres decir que la perdida de saldo en estas cuentas es considerable. En cambio las cuentas de tipo Savings posee una relacion nula/debil, es decir, estas si bien pierden mediante la edad de los clientes, no es significativo, por lo que mantiene el valor de los ingresos de los clientes.\n",
    "\n",
    "Por lo que el tipo de cuenta si afecta a los clientes de forma moderada. La edad en cambio afecta de forma diferencial entre tipos de cuenta, pero si hablamos en forma global, se puede ver una ligera disminucion de saldos con la edad (Como lo demuestra la correlacion hecha unos cuadros mas arriba).\n"
   ]
  },
  {
   "cell_type": "markdown",
   "id": "6e2bfa2a",
   "metadata": {},
   "source": [
    "# ¿Cómo varía el saldo promedio según el género?"
   ]
  },
  {
   "cell_type": "code",
   "execution_count": null,
   "id": "989cf258",
   "metadata": {},
   "outputs": [],
   "source": [
    "# Obtenemos los datos\n",
    "saldoProm_genero = datos_modif.copy().groupby(\"Gender\",observed=False)\\\n",
    "    .agg(saldo_promedio = (\"Account Balance\",\"mean\"))\n",
    "\n",
    "saldoProm_genero[\"saldo_promedio\"] = saldoProm_genero[\"saldo_promedio\"].round(2) # maximo 2 decimales\n",
    "\n",
    "# Modificacion de Generos\n",
    "\n",
    "saldoProm_genero.loc[saldoProm_genero.index.str.contains(\"Male\"), 'Sexo'] = 'Masculino'\n",
    "saldoProm_genero.loc[saldoProm_genero.index.str.contains(\"Female\"), 'Sexo'] = 'Femenino'\n"
   ]
  },
  {
   "cell_type": "code",
   "execution_count": 87,
   "id": "b0cb9746",
   "metadata": {},
   "outputs": [
    {
     "data": {
      "text/plain": [
       "Text(0.5, 0.98, 'Saldo Promedio por Genero')"
      ]
     },
     "execution_count": 87,
     "metadata": {},
     "output_type": "execute_result"
    },
    {
     "data": {
      "image/png": "[encoded data removed]",
      "text/plain": [
       "<Figure size 640x480 with 1 Axes>"
      ]
     },
     "metadata": {},
     "output_type": "display_data"
    }
   ],
   "source": [
    "# Creacion del grafico\n",
    "grafbar_saldoProm_genero = sb.barplot(\n",
    "    data=saldoProm_genero, x='Sexo', y='saldo_promedio', \n",
    "    hue=\"Sexo\",errorbar=None\n",
    ")\n",
    "\n",
    "#Mostrar los valores de cada barra en el grafico\n",
    "for p in grafbar_saldoProm_genero.patches:\n",
    "    altura = p.get_height()\n",
    "    grafbar_saldoProm_genero.annotate(\n",
    "        f'{float(altura)}',\n",
    "        (p.get_x() + p.get_width() / 2, altura),\n",
    "        ha='center', va='bottom',\n",
    "        fontsize=10, color='black', xytext=(0,1),\n",
    "        textcoords='offset points'\n",
    "    )\n",
    "\n",
    "mpl.pyplot.xlabel('Genero')\n",
    "mpl.pyplot.ylabel('Saldo Promedio')\n",
    "mpl.pyplot.suptitle('Saldo Promedio por Genero')"
   ]
  },
  {
   "cell_type": "markdown",
   "id": "4b90a39f",
   "metadata": {},
   "source": [
    "Al analizar el grafico podemos ver que:\n",
    "\n",
    "- El promedio femenino es de: 50936.45\n",
    "- El promedio Masculino es de: 50668.77\n",
    "\n",
    "Por lo que la diferencia entre saldo promedios es de 266,68. Lo que nos dice que la diferencia de saldo entre generos no es significativa. Siendo el mayor promedio para el genero Femenino."
   ]
  },
  {
   "cell_type": "markdown",
   "id": "593e5426",
   "metadata": {},
   "source": [
    "# ¿Cuándo se registran más clientes, en qué fechas o meses?\n",
    "Procederemos a verificar en que momento se registran mas clientes"
   ]
  },
  {
   "cell_type": "code",
   "execution_count": 88,
   "id": "8966d6bf",
   "metadata": {},
   "outputs": [],
   "source": [
    "registros_mes = datos_modif.copy()"
   ]
  },
  {
   "cell_type": "code",
   "execution_count": 89,
   "id": "c092158c",
   "metadata": {},
   "outputs": [],
   "source": [
    "# Agrupar los datos por años_meses\n",
    "registros_mes[\"year_month\"] = registros_mes[\"Registration Date\"].dt.to_period('M')\n",
    "registros_meses_años = registros_mes.groupby(\"year_month\").agg(total=(\"Customer ID\", \"count\")).reset_index()\n",
    "\n",
    "# obtener lista de años\n",
    "años = registros_mes[\"Registration Date\"].dt.year.unique()\n",
    "\n",
    "# Se ordenan los años\n",
    "años = sorted(años)"
   ]
  },
  {
   "cell_type": "code",
   "execution_count": 90,
   "id": "bb80f396",
   "metadata": {
    "tags": [
     "Graficos Registros por Año"
    ]
   },
   "outputs": [
    {
     "data": {
      "image/png": "[encoded data removed]",
      "text/plain": [
       "<Figure size 1500x1200 with 5 Axes>"
      ]
     },
     "metadata": {},
     "output_type": "display_data"
    }
   ],
   "source": [
    "# Confeccion de graficos multiples\n",
    "fig, axes = mpl.pyplot.subplots( 3, 2, figsize=(15,12), sharey=True)\n",
    "\n",
    "# Se agrega espacio entre filas de graficos para mejor lectura\n",
    "fig.subplots_adjust(hspace=0.6)\n",
    "\n",
    "axes = axes.flatten() # Se aplana la figura del grafico\n",
    "\n",
    "# Se recorren los años\n",
    "for i, año in enumerate(años):\n",
    "    # Se filtran por año y se agrupa por el mes\n",
    "    datos_años = registros_mes[ registros_mes['Registration Date'].dt.year == año ].groupby(\"year_month\")\\\n",
    "        .agg(total=(\"Customer ID\", \"count\")).reset_index()\n",
    "    \n",
    "    max_año = datos_años[\"total\"].max()\n",
    "    \n",
    "    # Se crean los graficos a mostrar\n",
    "    datos_años.plot(kind=\"bar\", ax=axes[i], legend=False)\n",
    "    axes[i].set_title(f'Datos Registros  Año-Mes {año}')\n",
    "    axes[i].set_xlabel(f'Mes')\n",
    "\n",
    "    if i == 0:\n",
    "        axes[i].set_ylabel('Nro Clientes')\n",
    "    \n",
    "    # Poner los valores de year_month en el eje x\n",
    "    axes[i].set_xticks(range(len(datos_años)))\n",
    "    axes[i].set_xticklabels(datos_años['year_month'], rotation=45)\n",
    "\n",
    "    # Obtener índice del máximo para saber dónde poner anotación\n",
    "    idx_max = datos_años['total'].idxmax()\n",
    "    # Anotar el máximo en el gráfico\n",
    "    axes[i].annotate(f'{max_año}', xy=(idx_max, max_año), xytext=(idx_max, max_año - 15),\n",
    "        arrowprops=dict(facecolor='red', shrink=1), ha='center')\n",
    "\n",
    "# Se elimina el ultimo grafico, que esta sin datos \n",
    "if len(años) < len(axes):\n",
    "    for j in range(len(años), len(axes)):\n",
    "        fig.delaxes(axes[j])\n",
    "\n",
    "# Se muestra la informacion\n",
    "mpl.pyplot.show()"
   ]
  },
  {
   "cell_type": "markdown",
   "id": "da15fb90",
   "metadata": {},
   "source": [
    "Segun se puede verificar en el grafico, los meses de maximos registros son los siguientes:\n",
    "\n",
    "| Año   | Mes pico          | Número de clientes |\n",
    "|-------|-------------------|--------------------|\n",
    "| 2020  | Octubre (10/2020) | 69                 |\n",
    "| 2021  | Enero (01/2021)   | 74                 |\n",
    "| 2022  | Julio (07/2022)   | 67                 |\n",
    "| 2023  | Agosto (08/2023)  | 58                 |\n",
    "| 2024* | Febrero (02/2024) | 66                 |\n",
    "\n",
    "*Nota: Los datos de 2024 solo cubren hasta julio.\n",
    "\n",
    "La Cantidad maxima en la totalidad de los años fue de 74 clientes para el mes de Enero de 2021, el minimo de los maximos fue para el año 2023 en el mes de Agosto con una cantidad de 58 clientes.\n",
    "\n",
    "Se puede ver que calculando, el promedio de los maximos es de 66.8 clientes por año, por lo que los años que se destacan cumpliendo el promedio de registros de clientes es son 2020, 2021 y 2022. Mietras que los años que no lograron el promedio calculado por años fueron el 2023 y 2024 (Destacando que este no esta completo en los datos analizados).\n",
    "\n",
    "Por lo que la tendencia general esta en los meses de invierno( Para USA, Enero - Febrero ) o mitad de año (Julio - Agosto - Octubre) con un promedio de maximos anuales de 66.8 registro de clientes."
   ]
  },
  {
   "cell_type": "markdown",
   "id": "fe2047d1",
   "metadata": {},
   "source": [
    "# ¿Hay patrones de registro según temporada o año?"
   ]
  },
  {
   "cell_type": "code",
   "execution_count": 112,
   "id": "ae08302f",
   "metadata": {},
   "outputs": [
    {
     "data": {
      "application/vnd.microsoft.datawrangler.viewer.v0+json": {
       "columns": [
        {
         "name": "index",
         "rawType": "int64",
         "type": "integer"
        },
        {
         "name": "year_month",
         "rawType": "period[M]",
         "type": "unknown"
        },
        {
         "name": "total",
         "rawType": "int64",
         "type": "integer"
        },
        {
         "name": "temporada",
         "rawType": "object",
         "type": "string"
        },
        {
         "name": "año",
         "rawType": "int64",
         "type": "integer"
        }
       ],
       "ref": "52eeadad-8a02-4dff-894f-15927cc50e2d",
       "rows": [
        [
         "0",
         "2020-01",
         "66",
         "Invierno",
         "2020"
        ],
        [
         "1",
         "2020-02",
         "54",
         "Invierno",
         "2020"
        ],
        [
         "2",
         "2020-03",
         "63",
         "Primavera",
         "2020"
        ],
        [
         "3",
         "2020-04",
         "60",
         "Primavera",
         "2020"
        ],
        [
         "4",
         "2020-05",
         "59",
         "Primavera",
         "2020"
        ],
        [
         "5",
         "2020-06",
         "59",
         "Verano",
         "2020"
        ],
        [
         "6",
         "2020-07",
         "53",
         "Verano",
         "2020"
        ],
        [
         "7",
         "2020-08",
         "49",
         "Verano",
         "2020"
        ],
        [
         "8",
         "2020-09",
         "53",
         "Otoño",
         "2020"
        ],
        [
         "9",
         "2020-10",
         "48",
         "Otoño",
         "2020"
        ],
        [
         "10",
         "2020-11",
         "52",
         "Otoño",
         "2020"
        ],
        [
         "11",
         "2020-12",
         "69",
         "Invierno",
         "2020"
        ],
        [
         "12",
         "2021-01",
         "53",
         "Invierno",
         "2021"
        ],
        [
         "13",
         "2021-02",
         "46",
         "Invierno",
         "2021"
        ],
        [
         "14",
         "2021-03",
         "74",
         "Primavera",
         "2021"
        ],
        [
         "15",
         "2021-04",
         "48",
         "Primavera",
         "2021"
        ],
        [
         "16",
         "2021-05",
         "58",
         "Primavera",
         "2021"
        ],
        [
         "17",
         "2021-06",
         "62",
         "Verano",
         "2021"
        ],
        [
         "18",
         "2021-07",
         "53",
         "Verano",
         "2021"
        ],
        [
         "19",
         "2021-08",
         "59",
         "Verano",
         "2021"
        ],
        [
         "20",
         "2021-09",
         "50",
         "Otoño",
         "2021"
        ],
        [
         "21",
         "2021-10",
         "56",
         "Otoño",
         "2021"
        ],
        [
         "22",
         "2021-11",
         "44",
         "Otoño",
         "2021"
        ],
        [
         "23",
         "2021-12",
         "60",
         "Invierno",
         "2021"
        ],
        [
         "24",
         "2022-01",
         "50",
         "Invierno",
         "2022"
        ],
        [
         "25",
         "2022-02",
         "53",
         "Invierno",
         "2022"
        ],
        [
         "26",
         "2022-03",
         "61",
         "Primavera",
         "2022"
        ],
        [
         "27",
         "2022-04",
         "54",
         "Primavera",
         "2022"
        ],
        [
         "28",
         "2022-05",
         "46",
         "Primavera",
         "2022"
        ],
        [
         "29",
         "2022-06",
         "51",
         "Verano",
         "2022"
        ],
        [
         "30",
         "2022-07",
         "59",
         "Verano",
         "2022"
        ],
        [
         "31",
         "2022-08",
         "67",
         "Verano",
         "2022"
        ],
        [
         "32",
         "2022-09",
         "61",
         "Otoño",
         "2022"
        ],
        [
         "33",
         "2022-10",
         "56",
         "Otoño",
         "2022"
        ],
        [
         "34",
         "2022-11",
         "58",
         "Otoño",
         "2022"
        ],
        [
         "35",
         "2022-12",
         "57",
         "Invierno",
         "2022"
        ],
        [
         "36",
         "2023-01",
         "52",
         "Invierno",
         "2023"
        ],
        [
         "37",
         "2023-02",
         "49",
         "Invierno",
         "2023"
        ],
        [
         "38",
         "2023-03",
         "48",
         "Primavera",
         "2023"
        ],
        [
         "39",
         "2023-04",
         "53",
         "Primavera",
         "2023"
        ],
        [
         "40",
         "2023-05",
         "53",
         "Primavera",
         "2023"
        ],
        [
         "41",
         "2023-06",
         "49",
         "Verano",
         "2023"
        ],
        [
         "42",
         "2023-07",
         "58",
         "Verano",
         "2023"
        ],
        [
         "43",
         "2023-08",
         "57",
         "Verano",
         "2023"
        ],
        [
         "44",
         "2023-09",
         "51",
         "Otoño",
         "2023"
        ],
        [
         "45",
         "2023-10",
         "54",
         "Otoño",
         "2023"
        ],
        [
         "46",
         "2023-11",
         "46",
         "Otoño",
         "2023"
        ],
        [
         "47",
         "2023-12",
         "58",
         "Invierno",
         "2023"
        ],
        [
         "48",
         "2024-01",
         "58",
         "Invierno",
         "2024"
        ],
        [
         "49",
         "2024-02",
         "56",
         "Invierno",
         "2024"
        ]
       ],
       "shape": {
        "columns": 4,
        "rows": 55
       }
      },
      "text/html": [
       "<div>\n",
       "<style scoped>\n",
       "    .dataframe tbody tr th:only-of-type {\n",
       "        vertical-align: middle;\n",
       "    }\n",
       "\n",
       "    .dataframe tbody tr th {\n",
       "        vertical-align: top;\n",
       "    }\n",
       "\n",
       "    .dataframe thead th {\n",
       "        text-align: right;\n",
       "    }\n",
       "</style>\n",
       "<table border=\"1\" class=\"dataframe\">\n",
       "  <thead>\n",
       "    <tr style=\"text-align: right;\">\n",
       "      <th></th>\n",
       "      <th>year_month</th>\n",
       "      <th>total</th>\n",
       "      <th>temporada</th>\n",
       "      <th>año</th>\n",
       "    </tr>\n",
       "  </thead>\n",
       "  <tbody>\n",
       "    <tr>\n",
       "      <th>0</th>\n",
       "      <td>2020-01</td>\n",
       "      <td>66</td>\n",
       "      <td>Invierno</td>\n",
       "      <td>2020</td>\n",
       "    </tr>\n",
       "    <tr>\n",
       "      <th>1</th>\n",
       "      <td>2020-02</td>\n",
       "      <td>54</td>\n",
       "      <td>Invierno</td>\n",
       "      <td>2020</td>\n",
       "    </tr>\n",
       "    <tr>\n",
       "      <th>2</th>\n",
       "      <td>2020-03</td>\n",
       "      <td>63</td>\n",
       "      <td>Primavera</td>\n",
       "      <td>2020</td>\n",
       "    </tr>\n",
       "    <tr>\n",
       "      <th>3</th>\n",
       "      <td>2020-04</td>\n",
       "      <td>60</td>\n",
       "      <td>Primavera</td>\n",
       "      <td>2020</td>\n",
       "    </tr>\n",
       "    <tr>\n",
       "      <th>4</th>\n",
       "      <td>2020-05</td>\n",
       "      <td>59</td>\n",
       "      <td>Primavera</td>\n",
       "      <td>2020</td>\n",
       "    </tr>\n",
       "    <tr>\n",
       "      <th>5</th>\n",
       "      <td>2020-06</td>\n",
       "      <td>59</td>\n",
       "      <td>Verano</td>\n",
       "      <td>2020</td>\n",
       "    </tr>\n",
       "    <tr>\n",
       "      <th>6</th>\n",
       "      <td>2020-07</td>\n",
       "      <td>53</td>\n",
       "      <td>Verano</td>\n",
       "      <td>2020</td>\n",
       "    </tr>\n",
       "    <tr>\n",
       "      <th>7</th>\n",
       "      <td>2020-08</td>\n",
       "      <td>49</td>\n",
       "      <td>Verano</td>\n",
       "      <td>2020</td>\n",
       "    </tr>\n",
       "    <tr>\n",
       "      <th>8</th>\n",
       "      <td>2020-09</td>\n",
       "      <td>53</td>\n",
       "      <td>Otoño</td>\n",
       "      <td>2020</td>\n",
       "    </tr>\n",
       "    <tr>\n",
       "      <th>9</th>\n",
       "      <td>2020-10</td>\n",
       "      <td>48</td>\n",
       "      <td>Otoño</td>\n",
       "      <td>2020</td>\n",
       "    </tr>\n",
       "    <tr>\n",
       "      <th>10</th>\n",
       "      <td>2020-11</td>\n",
       "      <td>52</td>\n",
       "      <td>Otoño</td>\n",
       "      <td>2020</td>\n",
       "    </tr>\n",
       "    <tr>\n",
       "      <th>11</th>\n",
       "      <td>2020-12</td>\n",
       "      <td>69</td>\n",
       "      <td>Invierno</td>\n",
       "      <td>2020</td>\n",
       "    </tr>\n",
       "    <tr>\n",
       "      <th>12</th>\n",
       "      <td>2021-01</td>\n",
       "      <td>53</td>\n",
       "      <td>Invierno</td>\n",
       "      <td>2021</td>\n",
       "    </tr>\n",
       "    <tr>\n",
       "      <th>13</th>\n",
       "      <td>2021-02</td>\n",
       "      <td>46</td>\n",
       "      <td>Invierno</td>\n",
       "      <td>2021</td>\n",
       "    </tr>\n",
       "    <tr>\n",
       "      <th>14</th>\n",
       "      <td>2021-03</td>\n",
       "      <td>74</td>\n",
       "      <td>Primavera</td>\n",
       "      <td>2021</td>\n",
       "    </tr>\n",
       "    <tr>\n",
       "      <th>15</th>\n",
       "      <td>2021-04</td>\n",
       "      <td>48</td>\n",
       "      <td>Primavera</td>\n",
       "      <td>2021</td>\n",
       "    </tr>\n",
       "    <tr>\n",
       "      <th>16</th>\n",
       "      <td>2021-05</td>\n",
       "      <td>58</td>\n",
       "      <td>Primavera</td>\n",
       "      <td>2021</td>\n",
       "    </tr>\n",
       "    <tr>\n",
       "      <th>17</th>\n",
       "      <td>2021-06</td>\n",
       "      <td>62</td>\n",
       "      <td>Verano</td>\n",
       "      <td>2021</td>\n",
       "    </tr>\n",
       "    <tr>\n",
       "      <th>18</th>\n",
       "      <td>2021-07</td>\n",
       "      <td>53</td>\n",
       "      <td>Verano</td>\n",
       "      <td>2021</td>\n",
       "    </tr>\n",
       "    <tr>\n",
       "      <th>19</th>\n",
       "      <td>2021-08</td>\n",
       "      <td>59</td>\n",
       "      <td>Verano</td>\n",
       "      <td>2021</td>\n",
       "    </tr>\n",
       "    <tr>\n",
       "      <th>20</th>\n",
       "      <td>2021-09</td>\n",
       "      <td>50</td>\n",
       "      <td>Otoño</td>\n",
       "      <td>2021</td>\n",
       "    </tr>\n",
       "    <tr>\n",
       "      <th>21</th>\n",
       "      <td>2021-10</td>\n",
       "      <td>56</td>\n",
       "      <td>Otoño</td>\n",
       "      <td>2021</td>\n",
       "    </tr>\n",
       "    <tr>\n",
       "      <th>22</th>\n",
       "      <td>2021-11</td>\n",
       "      <td>44</td>\n",
       "      <td>Otoño</td>\n",
       "      <td>2021</td>\n",
       "    </tr>\n",
       "    <tr>\n",
       "      <th>23</th>\n",
       "      <td>2021-12</td>\n",
       "      <td>60</td>\n",
       "      <td>Invierno</td>\n",
       "      <td>2021</td>\n",
       "    </tr>\n",
       "    <tr>\n",
       "      <th>24</th>\n",
       "      <td>2022-01</td>\n",
       "      <td>50</td>\n",
       "      <td>Invierno</td>\n",
       "      <td>2022</td>\n",
       "    </tr>\n",
       "    <tr>\n",
       "      <th>25</th>\n",
       "      <td>2022-02</td>\n",
       "      <td>53</td>\n",
       "      <td>Invierno</td>\n",
       "      <td>2022</td>\n",
       "    </tr>\n",
       "    <tr>\n",
       "      <th>26</th>\n",
       "      <td>2022-03</td>\n",
       "      <td>61</td>\n",
       "      <td>Primavera</td>\n",
       "      <td>2022</td>\n",
       "    </tr>\n",
       "    <tr>\n",
       "      <th>27</th>\n",
       "      <td>2022-04</td>\n",
       "      <td>54</td>\n",
       "      <td>Primavera</td>\n",
       "      <td>2022</td>\n",
       "    </tr>\n",
       "    <tr>\n",
       "      <th>28</th>\n",
       "      <td>2022-05</td>\n",
       "      <td>46</td>\n",
       "      <td>Primavera</td>\n",
       "      <td>2022</td>\n",
       "    </tr>\n",
       "    <tr>\n",
       "      <th>29</th>\n",
       "      <td>2022-06</td>\n",
       "      <td>51</td>\n",
       "      <td>Verano</td>\n",
       "      <td>2022</td>\n",
       "    </tr>\n",
       "    <tr>\n",
       "      <th>30</th>\n",
       "      <td>2022-07</td>\n",
       "      <td>59</td>\n",
       "      <td>Verano</td>\n",
       "      <td>2022</td>\n",
       "    </tr>\n",
       "    <tr>\n",
       "      <th>31</th>\n",
       "      <td>2022-08</td>\n",
       "      <td>67</td>\n",
       "      <td>Verano</td>\n",
       "      <td>2022</td>\n",
       "    </tr>\n",
       "    <tr>\n",
       "      <th>32</th>\n",
       "      <td>2022-09</td>\n",
       "      <td>61</td>\n",
       "      <td>Otoño</td>\n",
       "      <td>2022</td>\n",
       "    </tr>\n",
       "    <tr>\n",
       "      <th>33</th>\n",
       "      <td>2022-10</td>\n",
       "      <td>56</td>\n",
       "      <td>Otoño</td>\n",
       "      <td>2022</td>\n",
       "    </tr>\n",
       "    <tr>\n",
       "      <th>34</th>\n",
       "      <td>2022-11</td>\n",
       "      <td>58</td>\n",
       "      <td>Otoño</td>\n",
       "      <td>2022</td>\n",
       "    </tr>\n",
       "    <tr>\n",
       "      <th>35</th>\n",
       "      <td>2022-12</td>\n",
       "      <td>57</td>\n",
       "      <td>Invierno</td>\n",
       "      <td>2022</td>\n",
       "    </tr>\n",
       "    <tr>\n",
       "      <th>36</th>\n",
       "      <td>2023-01</td>\n",
       "      <td>52</td>\n",
       "      <td>Invierno</td>\n",
       "      <td>2023</td>\n",
       "    </tr>\n",
       "    <tr>\n",
       "      <th>37</th>\n",
       "      <td>2023-02</td>\n",
       "      <td>49</td>\n",
       "      <td>Invierno</td>\n",
       "      <td>2023</td>\n",
       "    </tr>\n",
       "    <tr>\n",
       "      <th>38</th>\n",
       "      <td>2023-03</td>\n",
       "      <td>48</td>\n",
       "      <td>Primavera</td>\n",
       "      <td>2023</td>\n",
       "    </tr>\n",
       "    <tr>\n",
       "      <th>39</th>\n",
       "      <td>2023-04</td>\n",
       "      <td>53</td>\n",
       "      <td>Primavera</td>\n",
       "      <td>2023</td>\n",
       "    </tr>\n",
       "    <tr>\n",
       "      <th>40</th>\n",
       "      <td>2023-05</td>\n",
       "      <td>53</td>\n",
       "      <td>Primavera</td>\n",
       "      <td>2023</td>\n",
       "    </tr>\n",
       "    <tr>\n",
       "      <th>41</th>\n",
       "      <td>2023-06</td>\n",
       "      <td>49</td>\n",
       "      <td>Verano</td>\n",
       "      <td>2023</td>\n",
       "    </tr>\n",
       "    <tr>\n",
       "      <th>42</th>\n",
       "      <td>2023-07</td>\n",
       "      <td>58</td>\n",
       "      <td>Verano</td>\n",
       "      <td>2023</td>\n",
       "    </tr>\n",
       "    <tr>\n",
       "      <th>43</th>\n",
       "      <td>2023-08</td>\n",
       "      <td>57</td>\n",
       "      <td>Verano</td>\n",
       "      <td>2023</td>\n",
       "    </tr>\n",
       "    <tr>\n",
       "      <th>44</th>\n",
       "      <td>2023-09</td>\n",
       "      <td>51</td>\n",
       "      <td>Otoño</td>\n",
       "      <td>2023</td>\n",
       "    </tr>\n",
       "    <tr>\n",
       "      <th>45</th>\n",
       "      <td>2023-10</td>\n",
       "      <td>54</td>\n",
       "      <td>Otoño</td>\n",
       "      <td>2023</td>\n",
       "    </tr>\n",
       "    <tr>\n",
       "      <th>46</th>\n",
       "      <td>2023-11</td>\n",
       "      <td>46</td>\n",
       "      <td>Otoño</td>\n",
       "      <td>2023</td>\n",
       "    </tr>\n",
       "    <tr>\n",
       "      <th>47</th>\n",
       "      <td>2023-12</td>\n",
       "      <td>58</td>\n",
       "      <td>Invierno</td>\n",
       "      <td>2023</td>\n",
       "    </tr>\n",
       "    <tr>\n",
       "      <th>48</th>\n",
       "      <td>2024-01</td>\n",
       "      <td>58</td>\n",
       "      <td>Invierno</td>\n",
       "      <td>2024</td>\n",
       "    </tr>\n",
       "    <tr>\n",
       "      <th>49</th>\n",
       "      <td>2024-02</td>\n",
       "      <td>56</td>\n",
       "      <td>Invierno</td>\n",
       "      <td>2024</td>\n",
       "    </tr>\n",
       "    <tr>\n",
       "      <th>50</th>\n",
       "      <td>2024-03</td>\n",
       "      <td>66</td>\n",
       "      <td>Primavera</td>\n",
       "      <td>2024</td>\n",
       "    </tr>\n",
       "    <tr>\n",
       "      <th>51</th>\n",
       "      <td>2024-04</td>\n",
       "      <td>38</td>\n",
       "      <td>Primavera</td>\n",
       "      <td>2024</td>\n",
       "    </tr>\n",
       "    <tr>\n",
       "      <th>52</th>\n",
       "      <td>2024-05</td>\n",
       "      <td>56</td>\n",
       "      <td>Primavera</td>\n",
       "      <td>2024</td>\n",
       "    </tr>\n",
       "    <tr>\n",
       "      <th>53</th>\n",
       "      <td>2024-06</td>\n",
       "      <td>59</td>\n",
       "      <td>Verano</td>\n",
       "      <td>2024</td>\n",
       "    </tr>\n",
       "    <tr>\n",
       "      <th>54</th>\n",
       "      <td>2024-07</td>\n",
       "      <td>18</td>\n",
       "      <td>Verano</td>\n",
       "      <td>2024</td>\n",
       "    </tr>\n",
       "  </tbody>\n",
       "</table>\n",
       "</div>"
      ],
      "text/plain": [
       "   year_month  total  temporada   año\n",
       "0     2020-01     66   Invierno  2020\n",
       "1     2020-02     54   Invierno  2020\n",
       "2     2020-03     63  Primavera  2020\n",
       "3     2020-04     60  Primavera  2020\n",
       "4     2020-05     59  Primavera  2020\n",
       "5     2020-06     59     Verano  2020\n",
       "6     2020-07     53     Verano  2020\n",
       "7     2020-08     49     Verano  2020\n",
       "8     2020-09     53      Otoño  2020\n",
       "9     2020-10     48      Otoño  2020\n",
       "10    2020-11     52      Otoño  2020\n",
       "11    2020-12     69   Invierno  2020\n",
       "12    2021-01     53   Invierno  2021\n",
       "13    2021-02     46   Invierno  2021\n",
       "14    2021-03     74  Primavera  2021\n",
       "15    2021-04     48  Primavera  2021\n",
       "16    2021-05     58  Primavera  2021\n",
       "17    2021-06     62     Verano  2021\n",
       "18    2021-07     53     Verano  2021\n",
       "19    2021-08     59     Verano  2021\n",
       "20    2021-09     50      Otoño  2021\n",
       "21    2021-10     56      Otoño  2021\n",
       "22    2021-11     44      Otoño  2021\n",
       "23    2021-12     60   Invierno  2021\n",
       "24    2022-01     50   Invierno  2022\n",
       "25    2022-02     53   Invierno  2022\n",
       "26    2022-03     61  Primavera  2022\n",
       "27    2022-04     54  Primavera  2022\n",
       "28    2022-05     46  Primavera  2022\n",
       "29    2022-06     51     Verano  2022\n",
       "30    2022-07     59     Verano  2022\n",
       "31    2022-08     67     Verano  2022\n",
       "32    2022-09     61      Otoño  2022\n",
       "33    2022-10     56      Otoño  2022\n",
       "34    2022-11     58      Otoño  2022\n",
       "35    2022-12     57   Invierno  2022\n",
       "36    2023-01     52   Invierno  2023\n",
       "37    2023-02     49   Invierno  2023\n",
       "38    2023-03     48  Primavera  2023\n",
       "39    2023-04     53  Primavera  2023\n",
       "40    2023-05     53  Primavera  2023\n",
       "41    2023-06     49     Verano  2023\n",
       "42    2023-07     58     Verano  2023\n",
       "43    2023-08     57     Verano  2023\n",
       "44    2023-09     51      Otoño  2023\n",
       "45    2023-10     54      Otoño  2023\n",
       "46    2023-11     46      Otoño  2023\n",
       "47    2023-12     58   Invierno  2023\n",
       "48    2024-01     58   Invierno  2024\n",
       "49    2024-02     56   Invierno  2024\n",
       "50    2024-03     66  Primavera  2024\n",
       "51    2024-04     38  Primavera  2024\n",
       "52    2024-05     56  Primavera  2024\n",
       "53    2024-06     59     Verano  2024\n",
       "54    2024-07     18     Verano  2024"
      ]
     },
     "execution_count": 112,
     "metadata": {},
     "output_type": "execute_result"
    }
   ],
   "source": [
    "# obtenemos los datos\n",
    "gLineal_regMesesAños = registros_meses_años.copy()\n",
    "\n",
    "# Creamos funcion que agregue campo temporada\n",
    "def agregar_temporada( mes ):\n",
    "    if mes in [12,1,2]:\n",
    "        return 'Invierno'\n",
    "    elif mes in [3,4,5]:\n",
    "        return 'Primavera'\n",
    "    elif mes in [6,7,8]:\n",
    "        return 'Verano'\n",
    "    elif mes in [9,10,11]:\n",
    "        return 'Otoño'\n",
    "    else:\n",
    "        return 'Desconocido'\n",
    "\n",
    "# Creamos un campo temporal que nos ayude a moficiar el dataframe\n",
    "gLineal_regMesesAños[\"mes\"] = gLineal_regMesesAños[\"year_month\"].astype(str).str.split('-').str[1].astype(int)\n",
    "\n",
    "gLineal_regMesesAños[\"temporada\"] = gLineal_regMesesAños['mes'].apply(agregar_temporada) # Aplicamos la funcion\n",
    "\n",
    "gLineal_regMesesAños = gLineal_regMesesAños.drop(columns=\"mes\") # Borramos el campo temporal\n",
    "\n",
    "gLineal_regMesesAños[\"año\"] = gLineal_regMesesAños[\"year_month\"].astype(str).str.split('-').str[0].astype(int) # Agrego año al dataframe\n",
    "\n",
    "gLineal_regMesesAños\n"
   ]
  },
  {
   "cell_type": "markdown",
   "id": "b7f94bf7",
   "metadata": {},
   "source": [
    "Ya preparada la informacion, procedemos a crear el grafico lineal segun temporada"
   ]
  },
  {
   "cell_type": "code",
   "execution_count": 149,
   "id": "a4af1936",
   "metadata": {},
   "outputs": [
    {
     "data": {
      "image/png": "[encoded data removed]",
      "text/plain": [
       "<Figure size 1000x600 with 1 Axes>"
      ]
     },
     "metadata": {},
     "output_type": "display_data"
    }
   ],
   "source": [
    "# obtenemos los años sin repetir\n",
    "años = gLineal_regMesesAños[\"year_month\"].astype(str).str.split('-').str[0].unique()\n",
    "\n",
    "# Obtenemos datos por temparada y año\n",
    "primavera = gLineal_regMesesAños[gLineal_regMesesAños[\"temporada\"] == 'Primavera'].groupby(\"año\").agg( total_tempAño = (\"total\", \"sum\") )\n",
    "verano = gLineal_regMesesAños[gLineal_regMesesAños[\"temporada\"] == 'Verano'].groupby(\"año\").agg( total_tempAño = (\"total\", \"sum\") )\n",
    "invierno = gLineal_regMesesAños[gLineal_regMesesAños[\"temporada\"] == 'Invierno'].groupby(\"año\").agg( total_tempAño = (\"total\", \"sum\") )\n",
    "otoño = gLineal_regMesesAños[gLineal_regMesesAños[\"temporada\"] == 'Otoño'].groupby(\"año\").agg( total_tempAño = (\"total\", \"sum\") ).reset_index()\n",
    "\n",
    "# Agreamos otoño 2024 en 0 por falta de datos\n",
    "nueva_fila_df = pd.DataFrame({'año': [2024], 'total_tempAño': [0]})\n",
    "otoño = pd.concat( [otoño, nueva_fila_df], ignore_index=True )\n",
    "\n",
    "\n",
    "# Creamos el grafico\n",
    "mpl.pyplot.figure(figsize=(10, 6))\n",
    "mpl.pyplot.plot(años, primavera, label='Primavera', marker=\"o\")\n",
    "mpl.pyplot.plot(años, verano, label='Verano', marker=\"s\")\n",
    "mpl.pyplot.plot(años, invierno, label='Invierno', marker=\"^\")\n",
    "mpl.pyplot.plot(años, otoño['total_tempAño'], label='Otoño', marker=\"d\")\n",
    "\n",
    "# Personalizar el gráfico\n",
    "mpl.pyplot.title('Registros por Temporada a lo largo de los Años', fontsize=14)\n",
    "mpl.pyplot.xlabel('Año', fontsize=12)\n",
    "mpl.pyplot.ylabel('Número de Registros', fontsize=12)\n",
    "mpl.pyplot.legend()  # Mostrar leyenda\n",
    "mpl.pyplot.grid(True)  # Agregar cuadrícula\n",
    "mpl.pyplot.xticks(años)  # Asegurar que los años aparezcan en el eje X\n",
    "\n",
    "# Mostrar el gráfico\n",
    "mpl.pyplot.show()"
   ]
  },
  {
   "cell_type": "markdown",
   "id": "67af88c2",
   "metadata": {},
   "source": [
    "Segun muestra el grafico, se puede ver que los datos se mantiene desde 2020 a 2023 entre 150 a 175 registros por temporada por año, pero en el año 2024 se muestra un declive en la mayoria de temporadas en comparación con años anteriores, llegando al minimo de 75 y teniendo un maximo de 160 aproximadamente.\n",
    "\n",
    "Cabe destacar que no se registran datos de otoño de 2024 por lo que los registros y como se ve en el grafico es 0."
   ]
  }
 ],
 "metadata": {
  "kernelspec": {
   "display_name": "analisis_bancario",
   "language": "python",
   "name": "python3"
  },
  "language_info": {
   "codemirror_mode": {
    "name": "ipython",
    "version": 3
   },
   "file_extension": ".py",
   "mimetype": "text/x-python",
   "name": "python",
   "nbconvert_exporter": "python",
   "pygments_lexer": "ipython3",
   "version": "3.13.7"
  }
 },
 "nbformat": 4,
 "nbformat_minor": 5
}
